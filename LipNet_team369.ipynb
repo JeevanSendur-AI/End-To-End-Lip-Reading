{
 "cells": [
  {
   "cell_type": "markdown",
   "id": "a3573a47-3689-4668-b62f-5c8451b2b4e9",
   "metadata": {
    "id": "a3573a47-3689-4668-b62f-5c8451b2b4e9",
    "tags": []
   },
   "source": [
    "# 0. Install and Import Dependencies"
   ]
  },
  {
   "cell_type": "code",
   "execution_count": 1,
   "id": "ddfbccbe-41ae-4c23-98b1-a13868e2b499",
   "metadata": {
    "colab": {
     "base_uri": "https://localhost:8080/"
    },
    "id": "ddfbccbe-41ae-4c23-98b1-a13868e2b499",
    "outputId": "06006c8b-ccae-4ccd-f530-8bc0f72d5056",
    "scrolled": true,
    "tags": []
   },
   "outputs": [
    {
     "name": "stdout",
     "output_type": "stream",
     "text": [
      "Package                      Version\n",
      "---------------------------- ----------------\n",
      "absl-py                      2.1.0\n",
      "apturl                       0.5.2\n",
      "asttokens                    2.4.1\n",
      "astunparse                   1.6.3\n",
      "bcrypt                       3.2.0\n",
      "beautifulsoup4               4.12.3\n",
      "blinker                      1.8.2\n",
      "Brlapi                       0.8.3\n",
      "certifi                      2020.6.20\n",
      "chardet                      4.0.0\n",
      "click                        8.1.7\n",
      "colorama                     0.4.4\n",
      "comm                         0.2.2\n",
      "command-not-found            0.3\n",
      "contourpy                    1.3.0\n",
      "cryptography                 3.4.8\n",
      "cupshelpers                  1.0\n",
      "customtkinter                5.2.2\n",
      "cycler                       0.12.1\n",
      "darkdetect                   0.8.0\n",
      "dbus-python                  1.2.18\n",
      "debugpy                      1.8.5\n",
      "decorator                    5.1.1\n",
      "defer                        1.0.6\n",
      "distro                       1.7.0\n",
      "distro-info                  1.1+ubuntu0.2\n",
      "duplicity                    0.8.21\n",
      "exceptiongroup               1.2.2\n",
      "executing                    2.1.0\n",
      "fasteners                    0.14.1\n",
      "filelock                     3.16.1\n",
      "Flask                        3.0.3\n",
      "flatbuffers                  24.3.25\n",
      "fonttools                    4.53.1\n",
      "fsspec                       2024.9.0\n",
      "future                       0.18.2\n",
      "gast                         0.6.0\n",
      "gdown                        5.2.0\n",
      "google-pasta                 0.2.0\n",
      "grpcio                       1.66.1\n",
      "gyp                          0.1\n",
      "h5py                         3.11.0\n",
      "httplib2                     0.20.2\n",
      "idna                         3.3\n",
      "imageio                      2.35.1\n",
      "importlib-metadata           4.6.4\n",
      "ipykernel                    6.29.5\n",
      "ipython                      8.27.0\n",
      "itsdangerous                 2.2.0\n",
      "jedi                         0.19.1\n",
      "jeepney                      0.7.1\n",
      "Jinja2                       3.1.4\n",
      "jiwer                        3.0.4\n",
      "jupyter_client               8.6.3\n",
      "jupyter_core                 5.7.2\n",
      "keras                        3.5.0\n",
      "keyring                      23.5.0\n",
      "kiwisolver                   1.4.7\n",
      "language-selector            0.1\n",
      "launchpadlib                 1.10.16\n",
      "lazr.restfulclient           0.14.4\n",
      "lazr.uri                     1.0.6\n",
      "libclang                     18.1.1\n",
      "lockfile                     0.12.2\n",
      "louis                        3.20.0\n",
      "macaroonbakery               1.3.1\n",
      "Mako                         1.1.3\n",
      "Markdown                     3.7\n",
      "markdown-it-py               3.0.0\n",
      "MarkupSafe                   2.1.5\n",
      "matplotlib                   3.9.2\n",
      "matplotlib-inline            0.1.7\n",
      "mdurl                        0.1.2\n",
      "ml-dtypes                    0.4.1\n",
      "monotonic                    1.6\n",
      "more-itertools               8.10.0\n",
      "mpmath                       1.3.0\n",
      "namex                        0.0.8\n",
      "nest-asyncio                 1.6.0\n",
      "netifaces                    0.11.0\n",
      "networkx                     3.3\n",
      "nodemon                      0.0.16\n",
      "numpy                        1.26.4\n",
      "nvidia-cublas-cu12           12.3.4.1\n",
      "nvidia-cuda-cupti-cu12       12.3.101\n",
      "nvidia-cuda-nvcc-cu12        12.3.107\n",
      "nvidia-cuda-nvrtc-cu12       12.3.107\n",
      "nvidia-cuda-runtime-cu12     12.3.101\n",
      "nvidia-cudnn-cu12            8.9.7.29\n",
      "nvidia-cufft-cu12            11.0.12.1\n",
      "nvidia-curand-cu12           10.3.4.107\n",
      "nvidia-cusolver-cu12         11.5.4.101\n",
      "nvidia-cusparse-cu12         12.2.0.103\n",
      "nvidia-nccl-cu12             2.19.3\n",
      "nvidia-nvjitlink-cu12        12.3.101\n",
      "nvidia-nvtx-cu12             12.4.99\n",
      "oauthlib                     3.2.0\n",
      "olefile                      0.46\n",
      "opencv-python                4.10.0.84\n",
      "opt-einsum                   3.3.0\n",
      "optree                       0.12.1\n",
      "packaging                    24.1\n",
      "paramiko                     2.9.3\n",
      "parso                        0.8.4\n",
      "pexpect                      4.8.0\n",
      "Pillow                       9.0.1\n",
      "pip                          22.0.2\n",
      "platformdirs                 4.3.6\n",
      "prompt_toolkit               3.0.47\n",
      "protobuf                     4.25.5\n",
      "psutil                       6.0.0\n",
      "ptyprocess                   0.7.0\n",
      "pure_eval                    0.2.3\n",
      "pycairo                      1.20.1\n",
      "pycups                       2.0.1\n",
      "Pygments                     2.18.0\n",
      "PyGObject                    3.42.1\n",
      "PyJWT                        2.3.0\n",
      "pymacaroons                  0.13.0\n",
      "PyNaCl                       1.5.0\n",
      "pyparsing                    2.4.7\n",
      "pyRFC3339                    1.1\n",
      "PySocks                      1.7.1\n",
      "python-apt                   2.4.0+ubuntu4\n",
      "python-dateutil              2.9.0.post0\n",
      "python-debian                0.1.43+ubuntu1.1\n",
      "pytz                         2022.1\n",
      "pyxdg                        0.27\n",
      "PyYAML                       5.4.1\n",
      "pyzmq                        26.2.0\n",
      "RapidFuzz                    3.10.0\n",
      "reportlab                    3.6.8\n",
      "requests                     2.25.1\n",
      "rich                         13.8.1\n",
      "screen-resolution-extra      0.0.0\n",
      "SecretStorage                3.3.1\n",
      "setuptools                   59.6.0\n",
      "six                          1.16.0\n",
      "soupsieve                    2.6\n",
      "stack-data                   0.6.3\n",
      "sympy                        1.13.3\n",
      "systemd-python               234\n",
      "tensorboard                  2.17.1\n",
      "tensorboard-data-server      0.7.2\n",
      "tensorflow                   2.17.0\n",
      "tensorflow-io-gcs-filesystem 0.37.1\n",
      "termcolor                    2.4.0\n",
      "torch                        2.4.1+cu124\n",
      "torchaudio                   2.4.1+cu124\n",
      "torchvision                  0.19.1+cu124\n",
      "tornado                      6.4.1\n",
      "tqdm                         4.66.5\n",
      "traitlets                    5.14.3\n",
      "triton                       3.0.0\n",
      "typing_extensions            4.12.2\n",
      "ubuntu-drivers-common        0.0.0\n",
      "ubuntu-pro-client            8001\n",
      "ufw                          0.36.1\n",
      "unattended-upgrades          0.1\n",
      "urllib3                      1.26.5\n",
      "usb-creator                  0.3.7\n",
      "wadllib                      1.3.6\n",
      "wcwidth                      0.2.13\n",
      "Werkzeug                     3.0.4\n",
      "wheel                        0.37.1\n",
      "wrapt                        1.16.0\n",
      "xdg                          5\n",
      "xkit                         0.0.0\n",
      "zipp                         1.0.0\n"
     ]
    }
   ],
   "source": [
    "! pip list"
   ]
  },
  {
   "cell_type": "code",
   "execution_count": 2,
   "id": "02f907ea-f669-46c7-adcf-7f257e663448",
   "metadata": {
    "colab": {
     "base_uri": "https://localhost:8080/"
    },
    "id": "02f907ea-f669-46c7-adcf-7f257e663448",
    "outputId": "1c66cec7-1dff-4fe1-db8d-5e5716e1833d",
    "tags": []
   },
   "outputs": [
    {
     "name": "stdout",
     "output_type": "stream",
     "text": [
      "Defaulting to user installation because normal site-packages is not writeable\n",
      "Requirement already satisfied: opencv-python in /home/jeevan/.local/lib/python3.10/site-packages (4.10.0.84)\n",
      "Requirement already satisfied: matplotlib in /home/jeevan/.local/lib/python3.10/site-packages (3.9.2)\n",
      "Requirement already satisfied: imageio in /home/jeevan/.local/lib/python3.10/site-packages (2.35.1)\n",
      "Requirement already satisfied: gdown in /home/jeevan/.local/lib/python3.10/site-packages (5.2.0)\n",
      "Requirement already satisfied: numpy>=1.19.3 in /home/jeevan/.local/lib/python3.10/site-packages (from opencv-python) (1.26.4)\n",
      "Requirement already satisfied: contourpy>=1.0.1 in /home/jeevan/.local/lib/python3.10/site-packages (from matplotlib) (1.3.0)\n",
      "Requirement already satisfied: kiwisolver>=1.3.1 in /home/jeevan/.local/lib/python3.10/site-packages (from matplotlib) (1.4.7)\n",
      "Requirement already satisfied: pyparsing>=2.3.1 in /usr/lib/python3/dist-packages (from matplotlib) (2.4.7)\n",
      "Requirement already satisfied: cycler>=0.10 in /home/jeevan/.local/lib/python3.10/site-packages (from matplotlib) (0.12.1)\n",
      "Requirement already satisfied: packaging>=20.0 in /home/jeevan/.local/lib/python3.10/site-packages (from matplotlib) (24.1)\n",
      "Requirement already satisfied: fonttools>=4.22.0 in /home/jeevan/.local/lib/python3.10/site-packages (from matplotlib) (4.53.1)\n",
      "Requirement already satisfied: python-dateutil>=2.7 in /home/jeevan/.local/lib/python3.10/site-packages (from matplotlib) (2.9.0.post0)\n",
      "Requirement already satisfied: pillow>=8 in /usr/lib/python3/dist-packages (from matplotlib) (9.0.1)\n",
      "Requirement already satisfied: filelock in /home/jeevan/.local/lib/python3.10/site-packages (from gdown) (3.16.1)\n",
      "Requirement already satisfied: requests[socks] in /usr/lib/python3/dist-packages (from gdown) (2.25.1)\n",
      "Requirement already satisfied: tqdm in /home/jeevan/.local/lib/python3.10/site-packages (from gdown) (4.66.5)\n",
      "Requirement already satisfied: beautifulsoup4 in /home/jeevan/.local/lib/python3.10/site-packages (from gdown) (4.12.3)\n",
      "Requirement already satisfied: six>=1.5 in /usr/lib/python3/dist-packages (from python-dateutil>=2.7->matplotlib) (1.16.0)\n",
      "Requirement already satisfied: soupsieve>1.2 in /home/jeevan/.local/lib/python3.10/site-packages (from beautifulsoup4->gdown) (2.6)\n",
      "Requirement already satisfied: PySocks!=1.5.7,>=1.5.6 in /home/jeevan/.local/lib/python3.10/site-packages (from requests[socks]->gdown) (1.7.1)\n"
     ]
    }
   ],
   "source": [
    "! pip install opencv-python matplotlib imageio gdown "
   ]
  },
  {
   "cell_type": "code",
   "execution_count": 3,
   "id": "b24af50c-20b8-409d-ad78-30a933fdd669",
   "metadata": {
    "id": "b24af50c-20b8-409d-ad78-30a933fdd669",
    "tags": []
   },
   "outputs": [
    {
     "name": "stderr",
     "output_type": "stream",
     "text": [
      "2024-11-03 14:41:32.638422: E external/local_xla/xla/stream_executor/cuda/cuda_fft.cc:485] Unable to register cuFFT factory: Attempting to register factory for plugin cuFFT when one has already been registered\n",
      "2024-11-03 14:41:32.691417: E external/local_xla/xla/stream_executor/cuda/cuda_dnn.cc:8454] Unable to register cuDNN factory: Attempting to register factory for plugin cuDNN when one has already been registered\n",
      "2024-11-03 14:41:32.708100: E external/local_xla/xla/stream_executor/cuda/cuda_blas.cc:1452] Unable to register cuBLAS factory: Attempting to register factory for plugin cuBLAS when one has already been registered\n",
      "2024-11-03 14:41:32.797632: I tensorflow/core/platform/cpu_feature_guard.cc:210] This TensorFlow binary is optimized to use available CPU instructions in performance-critical operations.\n",
      "To enable the following instructions: AVX2 AVX512F AVX512_VNNI FMA, in other operations, rebuild TensorFlow with the appropriate compiler flags.\n",
      "2024-11-03 14:41:33.606011: W tensorflow/compiler/tf2tensorrt/utils/py_utils.cc:38] TF-TRT Warning: Could not find TensorRT\n"
     ]
    }
   ],
   "source": [
    "import os\n",
    "import cv2\n",
    "import tensorflow as tf\n",
    "import numpy as np\n",
    "from typing import List\n",
    "from matplotlib import pyplot as plt\n",
    "import imageio"
   ]
  },
  {
   "cell_type": "code",
   "execution_count": 4,
   "id": "a8208a2b",
   "metadata": {},
   "outputs": [
    {
     "name": "stdout",
     "output_type": "stream",
     "text": [
      "Sun Nov  3 14:41:37 2024       \n",
      "+-----------------------------------------------------------------------------------------+\n",
      "| NVIDIA-SMI 550.90.12              Driver Version: 550.90.12      CUDA Version: 12.4     |\n",
      "|-----------------------------------------+------------------------+----------------------+\n",
      "| GPU  Name                 Persistence-M | Bus-Id          Disp.A | Volatile Uncorr. ECC |\n",
      "| Fan  Temp   Perf          Pwr:Usage/Cap |           Memory-Usage | GPU-Util  Compute M. |\n",
      "|                                         |                        |               MIG M. |\n",
      "|=========================================+========================+======================|\n",
      "|   0  NVIDIA GeForce RTX 3050 ...    Off |   00000000:01:00.0 Off |                  N/A |\n",
      "| N/A   53C    P0             15W /   80W |      15MiB /   4096MiB |      0%      Default |\n",
      "|                                         |                        |                  N/A |\n",
      "+-----------------------------------------+------------------------+----------------------+\n",
      "                                                                                         \n",
      "+-----------------------------------------------------------------------------------------+\n",
      "| Processes:                                                                              |\n",
      "|  GPU   GI   CI        PID   Type   Process name                              GPU Memory |\n",
      "|        ID   ID                                                               Usage      |\n",
      "|=========================================================================================|\n",
      "|    0   N/A  N/A      1698      G   /usr/lib/xorg/Xorg                              4MiB |\n",
      "+-----------------------------------------------------------------------------------------+\n"
     ]
    }
   ],
   "source": [
    "! nvidia-smi\n"
   ]
  },
  {
   "cell_type": "code",
   "execution_count": 6,
   "id": "1e3db0b0-e559-4ad6-91fd-e7414b7d75e6",
   "metadata": {
    "colab": {
     "base_uri": "https://localhost:8080/"
    },
    "id": "1e3db0b0-e559-4ad6-91fd-e7414b7d75e6",
    "outputId": "de104968-cd99-42ed-b9cb-ac6fac5dc25e"
   },
   "outputs": [
    {
     "data": {
      "text/plain": [
       "[PhysicalDevice(name='/physical_device:GPU:0', device_type='GPU')]"
      ]
     },
     "execution_count": 6,
     "metadata": {},
     "output_type": "execute_result"
    }
   ],
   "source": [
    "tf.config.list_physical_devices('GPU')"
   ]
  },
  {
   "cell_type": "code",
   "execution_count": 7,
   "id": "23ccbff6",
   "metadata": {},
   "outputs": [
    {
     "name": "stdout",
     "output_type": "stream",
     "text": [
      "1 Physical GPUs, 1 Logical GPUs\n"
     ]
    },
    {
     "name": "stderr",
     "output_type": "stream",
     "text": [
      "I0000 00:00:1730625103.545056    3886 cuda_executor.cc:1015] successful NUMA node read from SysFS had negative value (-1), but there must be at least one NUMA node, so returning NUMA node zero. See more at https://github.com/torvalds/linux/blob/v6.0/Documentation/ABI/testing/sysfs-bus-pci#L344-L355\n",
      "I0000 00:00:1730625103.546331    3886 cuda_executor.cc:1015] successful NUMA node read from SysFS had negative value (-1), but there must be at least one NUMA node, so returning NUMA node zero. See more at https://github.com/torvalds/linux/blob/v6.0/Documentation/ABI/testing/sysfs-bus-pci#L344-L355\n",
      "I0000 00:00:1730625103.547760    3886 cuda_executor.cc:1015] successful NUMA node read from SysFS had negative value (-1), but there must be at least one NUMA node, so returning NUMA node zero. See more at https://github.com/torvalds/linux/blob/v6.0/Documentation/ABI/testing/sysfs-bus-pci#L344-L355\n",
      "I0000 00:00:1730625103.658593    3886 cuda_executor.cc:1015] successful NUMA node read from SysFS had negative value (-1), but there must be at least one NUMA node, so returning NUMA node zero. See more at https://github.com/torvalds/linux/blob/v6.0/Documentation/ABI/testing/sysfs-bus-pci#L344-L355\n",
      "I0000 00:00:1730625103.659926    3886 cuda_executor.cc:1015] successful NUMA node read from SysFS had negative value (-1), but there must be at least one NUMA node, so returning NUMA node zero. See more at https://github.com/torvalds/linux/blob/v6.0/Documentation/ABI/testing/sysfs-bus-pci#L344-L355\n",
      "I0000 00:00:1730625103.661141    3886 cuda_executor.cc:1015] successful NUMA node read from SysFS had negative value (-1), but there must be at least one NUMA node, so returning NUMA node zero. See more at https://github.com/torvalds/linux/blob/v6.0/Documentation/ABI/testing/sysfs-bus-pci#L344-L355\n",
      "2024-11-03 14:41:43.662324: I tensorflow/core/common_runtime/gpu/gpu_device.cc:2021] Created device /job:localhost/replica:0/task:0/device:GPU:0 with 3500 MB memory:  -> device: 0, name: NVIDIA GeForce RTX 3050 Laptop GPU, pci bus id: 0000:01:00.0, compute capability: 8.6\n"
     ]
    }
   ],
   "source": [
    "import tensorflow as tf\n",
    "\n",
    "gpus = tf.config.experimental.list_physical_devices('GPU')\n",
    "if gpus:\n",
    "    try:\n",
    "        # Memory growth must be set before GPUs have been initialized\n",
    "        for gpu in gpus:\n",
    "            tf.config.experimental.set_memory_growth(gpu, True)\n",
    "        \n",
    "        # Then we limit the memory\n",
    "        tf.config.experimental.set_virtual_device_configuration(\n",
    "            gpus[0],\n",
    "            [tf.config.experimental.VirtualDeviceConfiguration(memory_limit=3500)])\n",
    "        logical_gpus = tf.config.experimental.list_logical_devices('GPU')\n",
    "        print(len(gpus), \"Physical GPUs,\", len(logical_gpus), \"Logical GPUs\")\n",
    "    except RuntimeError as e:\n",
    "        # Memory growth must be set before GPUs have been initialized\n",
    "        print(e)\n",
    "\n",
    "# Now you can run your TensorFlow operations"
   ]
  },
  {
   "cell_type": "markdown",
   "id": "7a19e88e-c7b9-45c1-ae1e-f2109329c71b",
   "metadata": {
    "id": "7a19e88e-c7b9-45c1-ae1e-f2109329c71b",
    "tags": []
   },
   "source": [
    "# 1. Build Data Loading Functions"
   ]
  },
  {
   "cell_type": "code",
   "execution_count": 8,
   "id": "8fb99c90-e05a-437f-839d-6e772f8c1dd5",
   "metadata": {
    "id": "8fb99c90-e05a-437f-839d-6e772f8c1dd5",
    "tags": []
   },
   "outputs": [],
   "source": [
    "import gdown"
   ]
  },
  {
   "cell_type": "code",
   "execution_count": 26,
   "id": "c019e4c6-2af3-4160-99ea-5c8cb009f1a7",
   "metadata": {
    "colab": {
     "base_uri": "https://localhost:8080/"
    },
    "id": "c019e4c6-2af3-4160-99ea-5c8cb009f1a7",
    "outputId": "3a4f3f7b-07d1-453f-a48f-113dff2e18ae",
    "tags": []
   },
   "outputs": [
    {
     "data": {
      "text/plain": [
       "\"url = 'https://drive.google.com/uc?id=1YlvpDLix3S-U8fd-gqRwPcWXAXm8JwjL'\\noutput = 'data.zip'\\ngdown.download(url, output, quiet=False)\\ngdown.extractall('data.zip')\""
      ]
     },
     "execution_count": 26,
     "metadata": {},
     "output_type": "execute_result"
    },
    {
     "name": "stderr",
     "output_type": "stream",
     "text": [
      " 95%|█████████▌| 403M/423M [00:40<00:01, 10.5MB/s]"
     ]
    }
   ],
   "source": [
    "'''url = 'https://drive.google.com/uc?id=1YlvpDLix3S-U8fd-gqRwPcWXAXm8JwjL'\n",
    "output = 'data.zip'\n",
    "gdown.download(url, output, quiet=False)\n",
    "gdown.extractall('data.zip')'''"
   ]
  },
  {
   "cell_type": "code",
   "execution_count": 8,
   "id": "8548cc59-6dfc-4acc-abc3-3e65212db02e",
   "metadata": {
    "id": "8548cc59-6dfc-4acc-abc3-3e65212db02e",
    "tags": []
   },
   "outputs": [],
   "source": [
    "import cv2\n",
    "import tensorflow as tf\n",
    "from typing import List\n",
    "\n",
    "def load_video(path:str) -> List[float]:\n",
    "\n",
    "    cap = cv2.VideoCapture(path)\n",
    "    frames = []\n",
    "    for _ in range(int(cap.get(cv2.CAP_PROP_FRAME_COUNT))):\n",
    "        ret, frame = cap.read()\n",
    "        frame = tf.image.rgb_to_grayscale(frame)\n",
    "        frames.append(frame[190:236,80:220,:])\n",
    "    cap.release()\n",
    "\n",
    "    mean = tf.math.reduce_mean(frames)\n",
    "    std = tf.math.reduce_std(tf.cast(frames, tf.float32))\n",
    "    return tf.cast((frames - mean), tf.float32) / std"
   ]
  },
  {
   "cell_type": "code",
   "execution_count": 9,
   "id": "ec735e0b-ec98-4eb0-8f49-c35527d6670a",
   "metadata": {
    "id": "ec735e0b-ec98-4eb0-8f49-c35527d6670a",
    "tags": []
   },
   "outputs": [],
   "source": [
    "vocab = [x for x in \"abcdefghijklmnopqrstuvwxyz'?!123456789 \"]"
   ]
  },
  {
   "cell_type": "code",
   "execution_count": 10,
   "id": "be04e972-d7a5-4a72-82d8-a6bdde1f3ce6",
   "metadata": {
    "colab": {
     "base_uri": "https://localhost:8080/"
    },
    "id": "be04e972-d7a5-4a72-82d8-a6bdde1f3ce6",
    "outputId": "97544324-3c6b-46a1-ca1b-c8ee6953d451",
    "tags": []
   },
   "outputs": [
    {
     "name": "stdout",
     "output_type": "stream",
     "text": [
      "The vocabulary is: ['', 'a', 'b', 'c', 'd', 'e', 'f', 'g', 'h', 'i', 'j', 'k', 'l', 'm', 'n', 'o', 'p', 'q', 'r', 's', 't', 'u', 'v', 'w', 'x', 'y', 'z', \"'\", '?', '!', '1', '2', '3', '4', '5', '6', '7', '8', '9', ' '] (size =40)\n"
     ]
    }
   ],
   "source": [
    "char_to_num = tf.keras.layers.StringLookup(vocabulary=vocab, oov_token=\"\")\n",
    "num_to_char = tf.keras.layers.StringLookup(\n",
    "    vocabulary=char_to_num.get_vocabulary(), oov_token=\"\", invert=True\n",
    ")\n",
    "\n",
    "print(\n",
    "    f\"The vocabulary is: {char_to_num.get_vocabulary()} \"\n",
    "    f\"(size ={char_to_num.vocabulary_size()})\"\n",
    ")"
   ]
  },
  {
   "cell_type": "code",
   "execution_count": 11,
   "id": "559f7420-6802-45fa-9ca0-b1ff209b461c",
   "metadata": {
    "colab": {
     "base_uri": "https://localhost:8080/"
    },
    "collapsed": true,
    "id": "559f7420-6802-45fa-9ca0-b1ff209b461c",
    "outputId": "5f1a7333-183d-4fea-b7eb-d8c8052e33da",
    "tags": []
   },
   "outputs": [
    {
     "data": {
      "text/plain": [
       "['',\n",
       " 'a',\n",
       " 'b',\n",
       " 'c',\n",
       " 'd',\n",
       " 'e',\n",
       " 'f',\n",
       " 'g',\n",
       " 'h',\n",
       " 'i',\n",
       " 'j',\n",
       " 'k',\n",
       " 'l',\n",
       " 'm',\n",
       " 'n',\n",
       " 'o',\n",
       " 'p',\n",
       " 'q',\n",
       " 'r',\n",
       " 's',\n",
       " 't',\n",
       " 'u',\n",
       " 'v',\n",
       " 'w',\n",
       " 'x',\n",
       " 'y',\n",
       " 'z',\n",
       " \"'\",\n",
       " '?',\n",
       " '!',\n",
       " '1',\n",
       " '2',\n",
       " '3',\n",
       " '4',\n",
       " '5',\n",
       " '6',\n",
       " '7',\n",
       " '8',\n",
       " '9',\n",
       " ' ']"
      ]
     },
     "execution_count": 11,
     "metadata": {},
     "output_type": "execute_result"
    }
   ],
   "source": [
    "char_to_num.get_vocabulary()"
   ]
  },
  {
   "cell_type": "code",
   "execution_count": 12,
   "id": "797ff78b-b48f-4e14-bb62-8cd0ebf9501a",
   "metadata": {
    "colab": {
     "base_uri": "https://localhost:8080/"
    },
    "id": "797ff78b-b48f-4e14-bb62-8cd0ebf9501a",
    "outputId": "06862152-3dc7-4f26-8140-69d74c7933f3",
    "tags": []
   },
   "outputs": [
    {
     "data": {
      "text/plain": [
       "<tf.Tensor: shape=(4,), dtype=int64, numpy=array([14,  9,  7,  7])>"
      ]
     },
     "execution_count": 12,
     "metadata": {},
     "output_type": "execute_result"
    }
   ],
   "source": [
    "char_to_num(['n','i','g','g'])"
   ]
  },
  {
   "cell_type": "code",
   "execution_count": 13,
   "id": "8cd7f4f4-ae77-4509-a4f4-c723787ebad1",
   "metadata": {
    "colab": {
     "base_uri": "https://localhost:8080/"
    },
    "id": "8cd7f4f4-ae77-4509-a4f4-c723787ebad1",
    "outputId": "0415df82-bb61-4555-dbcf-eaaf58e86720"
   },
   "outputs": [
    {
     "data": {
      "text/plain": [
       "<tf.Tensor: shape=(4,), dtype=string, numpy=array([b'n', b'i', b'c', b'k'], dtype=object)>"
      ]
     },
     "execution_count": 13,
     "metadata": {},
     "output_type": "execute_result"
    }
   ],
   "source": [
    "num_to_char([14,  9,  3, 11])"
   ]
  },
  {
   "cell_type": "code",
   "execution_count": 14,
   "id": "9491bab5-6a3c-4f79-879a-8f9fbe73ae2e",
   "metadata": {
    "id": "9491bab5-6a3c-4f79-879a-8f9fbe73ae2e",
    "tags": []
   },
   "outputs": [],
   "source": [
    "def load_alignments(path:str) -> List[str]:\n",
    "    with open(path, 'r') as f:\n",
    "        lines = f.readlines()\n",
    "    tokens = []\n",
    "    for line in lines:\n",
    "        line = line.split()\n",
    "        if line[2] != 'sil':\n",
    "            tokens = [*tokens,' ',line[2]]\n",
    "    return char_to_num(tf.reshape(tf.strings.unicode_split(tokens, input_encoding='UTF-8'), (-1)))[1:]"
   ]
  },
  {
   "cell_type": "code",
   "execution_count": 15,
   "id": "dd01ca9f-77fb-4643-a2aa-47dd82c5d66b",
   "metadata": {
    "id": "dd01ca9f-77fb-4643-a2aa-47dd82c5d66b",
    "tags": []
   },
   "outputs": [],
   "source": [
    "def load_data(path: str):\n",
    "    path = bytes.decode(path.numpy())\n",
    "    file_name = path.split('/')[-1].split('.')[0]\n",
    "    # File name splitting for windows\n",
    "    #file_name = path.split('\\\\')[-1].split('.')[0]\n",
    "    video_path = os.path.join('data','s1',f'{file_name}.mpg')\n",
    "    alignment_path = os.path.join('data','alignments','s1',f'{file_name}.align')\n",
    "    frames = load_video(video_path)\n",
    "    alignments = load_alignments(alignment_path)\n",
    "\n",
    "    return frames, alignments"
   ]
  },
  {
   "cell_type": "code",
   "execution_count": 16,
   "id": "8cb7cc58-31ae-4904-a805-1177a82717d2",
   "metadata": {
    "id": "8cb7cc58-31ae-4904-a805-1177a82717d2",
    "tags": []
   },
   "outputs": [],
   "source": [
    "test_path = 'data/s1/bbaf4p.mpg'"
   ]
  },
  {
   "cell_type": "code",
   "execution_count": 17,
   "id": "76aa964f-0c84-490d-897a-d00e3966e2c9",
   "metadata": {
    "colab": {
     "base_uri": "https://localhost:8080/",
     "height": 35
    },
    "id": "76aa964f-0c84-490d-897a-d00e3966e2c9",
    "outputId": "cf1f7b2e-5494-4816-c0c2-bc381836b279"
   },
   "outputs": [
    {
     "data": {
      "text/plain": [
       "'bbaf4p'"
      ]
     },
     "execution_count": 17,
     "metadata": {},
     "output_type": "execute_result"
    }
   ],
   "source": [
    "tf.convert_to_tensor(test_path).numpy().decode('utf-8').split('/')[-1].split('.')[0]"
   ]
  },
  {
   "cell_type": "code",
   "execution_count": 18,
   "id": "eb602c71-8560-4f9e-b26b-08202febb937",
   "metadata": {
    "id": "eb602c71-8560-4f9e-b26b-08202febb937",
    "scrolled": true,
    "tags": []
   },
   "outputs": [],
   "source": [
    "frames, alignments = load_data(tf.convert_to_tensor(test_path))"
   ]
  },
  {
   "cell_type": "code",
   "execution_count": 19,
   "id": "0e3184a1-6b02-4b4f-84a8-a0a65f951ea2",
   "metadata": {
    "colab": {
     "base_uri": "https://localhost:8080/",
     "height": 244
    },
    "id": "0e3184a1-6b02-4b4f-84a8-a0a65f951ea2",
    "outputId": "f83bf05e-40a5-4379-cdb3-300d78176489"
   },
   "outputs": [
    {
     "data": {
      "text/plain": [
       "<matplotlib.image.AxesImage at 0x7a6ccbb45ba0>"
      ]
     },
     "execution_count": 19,
     "metadata": {},
     "output_type": "execute_result"
    },
    {
     "data": {
      "image/png": "[encoded data removed]",
      "text/plain": [
       "<Figure size 640x480 with 1 Axes>"
      ]
     },
     "metadata": {},
     "output_type": "display_data"
    }
   ],
   "source": [
    "plt.imshow(frames[20])"
   ]
  },
  {
   "cell_type": "code",
   "execution_count": 20,
   "id": "d7ec0833-d54b-4073-84cf-92d011c60ec1",
   "metadata": {
    "colab": {
     "base_uri": "https://localhost:8080/"
    },
    "id": "d7ec0833-d54b-4073-84cf-92d011c60ec1",
    "outputId": "539efea3-da22-4ef4-da87-a7e76e8525c8"
   },
   "outputs": [
    {
     "data": {
      "text/plain": [
       "<tf.Tensor: shape=(25,), dtype=int64, numpy=\n",
       "array([ 2,  9, 14, 39,  2, 12, 21,  5, 39,  1, 20, 39,  6, 39,  6, 15, 21,\n",
       "       18, 39, 16, 12,  5,  1, 19,  5])>"
      ]
     },
     "execution_count": 20,
     "metadata": {},
     "output_type": "execute_result"
    }
   ],
   "source": [
    "alignments"
   ]
  },
  {
   "cell_type": "code",
   "execution_count": 21,
   "id": "fe1ad370-b287-4b46-85a2-7c45b0bd9b10",
   "metadata": {
    "colab": {
     "base_uri": "https://localhost:8080/"
    },
    "id": "fe1ad370-b287-4b46-85a2-7c45b0bd9b10",
    "outputId": "1a31e02d-ee1f-4f6c-a7b4-727cc9643e40"
   },
   "outputs": [
    {
     "data": {
      "text/plain": [
       "<tf.Tensor: shape=(), dtype=string, numpy=b'bin blue at f four please'>"
      ]
     },
     "execution_count": 21,
     "metadata": {},
     "output_type": "execute_result"
    }
   ],
   "source": [
    "tf.strings.reduce_join([bytes.decode(x) for x in num_to_char(alignments.numpy()).numpy()])"
   ]
  },
  {
   "cell_type": "code",
   "execution_count": 22,
   "id": "6871031a-b0ba-4c76-a852-f6329b0f2606",
   "metadata": {
    "id": "6871031a-b0ba-4c76-a852-f6329b0f2606",
    "tags": []
   },
   "outputs": [],
   "source": [
    "def mappable_function(path:str) ->List[str]:\n",
    "    result = tf.py_function(load_data, [path], (tf.float32, tf.int64))\n",
    "    return result"
   ]
  },
  {
   "cell_type": "markdown",
   "id": "c40a7eb4-0c3e-4eab-9291-5611cb68ce08",
   "metadata": {
    "id": "c40a7eb4-0c3e-4eab-9291-5611cb68ce08",
    "tags": []
   },
   "source": [
    "# 2. Create Data Pipeline"
   ]
  },
  {
   "cell_type": "code",
   "execution_count": 23,
   "id": "7686355d-45aa-4c85-ad9c-053e6a9b4d81",
   "metadata": {
    "id": "7686355d-45aa-4c85-ad9c-053e6a9b4d81",
    "tags": []
   },
   "outputs": [],
   "source": [
    "from matplotlib import pyplot as plt"
   ]
  },
  {
   "cell_type": "code",
   "execution_count": 24,
   "id": "f066fea2-91b1-42ed-a67d-00566a1a53ff",
   "metadata": {
    "id": "f066fea2-91b1-42ed-a67d-00566a1a53ff",
    "tags": []
   },
   "outputs": [],
   "source": [
    "data = tf.data.Dataset.list_files('./data/s1/*.mpg')\n",
    "data = data.shuffle(500, reshuffle_each_iteration=False)\n",
    "data = data.map(mappable_function)\n",
    "data = data.padded_batch(2, padded_shapes=([75,None,None,None],[40]))\n",
    "data = data.prefetch(tf.data.AUTOTUNE)\n",
    "# Added for split\n",
    "train = data.take(400)\n",
    "test = data.skip(400)"
   ]
  },
  {
   "cell_type": "code",
   "execution_count": 40,
   "id": "7589c158",
   "metadata": {},
   "outputs": [],
   "source": [
    "data = tf.data.Dataset.list_files('./data/s1/*.mpg')\n",
    "data = data.shuffle(500, reshuffle_each_iteration=False)\n",
    "data = data.map(mappable_function)\n",
    "data = data.padded_batch(2, padded_shapes=([75,None,None,None],[40]))\n",
    "data = data.prefetch(tf.data.AUTOTUNE)\n",
    "train = data.take(400)\n",
    "valid= data.skip(400).take(50)\n",
    "test = data.skip(450).take(50)"
   ]
  },
  {
   "cell_type": "code",
   "execution_count": null,
   "id": "6b1365bd-7742-41d1-95d4-247021751c3a",
   "metadata": {
    "colab": {
     "base_uri": "https://localhost:8080/"
    },
    "id": "6b1365bd-7742-41d1-95d4-247021751c3a",
    "outputId": "f27a6611-0b55-4ff5-f960-bd247d3a6983"
   },
   "outputs": [
    {
     "data": {
      "text/plain": [
       "50"
      ]
     },
     "execution_count": 42,
     "metadata": {},
     "output_type": "execute_result"
    }
   ],
   "source": [
    "len(test)"
   ]
  },
  {
   "cell_type": "code",
   "execution_count": null,
   "id": "a0b8d680",
   "metadata": {},
   "outputs": [],
   "source": [
    "len(test)"
   ]
  },
  {
   "cell_type": "code",
   "execution_count": 43,
   "id": "5281bde8-fdc8-4da1-bd55-5a7929a9e80c",
   "metadata": {
    "id": "5281bde8-fdc8-4da1-bd55-5a7929a9e80c"
   },
   "outputs": [],
   "source": [
    "frames, alignments = data.as_numpy_iterator().next()"
   ]
  },
  {
   "cell_type": "code",
   "execution_count": 44,
   "id": "cbebe683-6afd-47fd-bba4-c83b4b13bb32",
   "metadata": {
    "colab": {
     "base_uri": "https://localhost:8080/"
    },
    "id": "cbebe683-6afd-47fd-bba4-c83b4b13bb32",
    "outputId": "e38421a4-9e57-432e-ff72-04dab637aa82"
   },
   "outputs": [
    {
     "data": {
      "text/plain": [
       "2"
      ]
     },
     "execution_count": 44,
     "metadata": {},
     "output_type": "execute_result"
    }
   ],
   "source": [
    "len(frames)"
   ]
  },
  {
   "cell_type": "code",
   "execution_count": 45,
   "id": "5cf2d676-93a9-434c-b3c7-bdcc2577b2e7",
   "metadata": {
    "id": "5cf2d676-93a9-434c-b3c7-bdcc2577b2e7",
    "tags": []
   },
   "outputs": [],
   "source": [
    "sample = data.as_numpy_iterator()"
   ]
  },
  {
   "cell_type": "code",
   "execution_count": 46,
   "id": "efa6cd46-7079-46c0-b45b-832f339f6cb0",
   "metadata": {
    "colab": {
     "base_uri": "https://localhost:8080/"
    },
    "id": "efa6cd46-7079-46c0-b45b-832f339f6cb0",
    "outputId": "c5991b05-a61e-4ed6-e028-82d1563a1bd7",
    "scrolled": true,
    "tags": []
   },
   "outputs": [
    {
     "data": {
      "text/plain": [
       "array([[[[[ 1.6406872 ],\n",
       "          [ 1.6042275 ],\n",
       "          [ 1.5677679 ],\n",
       "          ...,\n",
       "          [ 0.36459717],\n",
       "          [ 0.4375166 ],\n",
       "          [ 0.4375166 ]],\n",
       "\n",
       "         [[ 1.6042275 ],\n",
       "          [ 1.5677679 ],\n",
       "          [ 1.4948484 ],\n",
       "          ...,\n",
       "          [ 0.4010569 ],\n",
       "          [ 0.4375166 ],\n",
       "          [ 0.4375166 ]],\n",
       "\n",
       "         [[ 1.4948484 ],\n",
       "          [ 1.4948484 ],\n",
       "          [ 1.4948484 ],\n",
       "          ...,\n",
       "          [ 0.4010569 ],\n",
       "          [ 0.4010569 ],\n",
       "          [ 0.4010569 ]],\n",
       "\n",
       "         ...,\n",
       "\n",
       "         [[ 1.0573318 ],\n",
       "          [ 1.0573318 ],\n",
       "          [ 1.0573318 ],\n",
       "          ...,\n",
       "          [ 0.10937915],\n",
       "          [ 0.10937915],\n",
       "          [ 0.10937915]],\n",
       "\n",
       "         [[ 1.0573318 ],\n",
       "          [ 1.0573318 ],\n",
       "          [ 1.0573318 ],\n",
       "          ...,\n",
       "          [ 0.10937915],\n",
       "          [ 0.10937915],\n",
       "          [ 0.10937915]],\n",
       "\n",
       "         [[ 1.0573318 ],\n",
       "          [ 1.0573318 ],\n",
       "          [ 1.0573318 ],\n",
       "          ...,\n",
       "          [ 0.10937915],\n",
       "          [ 0.10937915],\n",
       "          [ 0.07291944]]],\n",
       "\n",
       "\n",
       "        [[[ 1.6042275 ],\n",
       "          [ 1.5677679 ],\n",
       "          [ 1.421929  ],\n",
       "          ...,\n",
       "          [ 0.32813746],\n",
       "          [ 0.4010569 ],\n",
       "          [ 0.4010569 ]],\n",
       "\n",
       "         [[ 1.6042275 ],\n",
       "          [ 1.5677679 ],\n",
       "          [ 1.4948484 ],\n",
       "          ...,\n",
       "          [ 0.36459717],\n",
       "          [ 0.4010569 ],\n",
       "          [ 0.4010569 ]],\n",
       "\n",
       "         [[ 1.421929  ],\n",
       "          [ 1.421929  ],\n",
       "          [ 1.421929  ],\n",
       "          ...,\n",
       "          [ 0.36459717],\n",
       "          [ 0.36459717],\n",
       "          [ 0.36459717]],\n",
       "\n",
       "         ...,\n",
       "\n",
       "         [[ 1.0937915 ],\n",
       "          [ 1.0937915 ],\n",
       "          [ 1.0937915 ],\n",
       "          ...,\n",
       "          [ 0.14583887],\n",
       "          [ 0.10937915],\n",
       "          [ 0.07291944]],\n",
       "\n",
       "         [[ 1.0937915 ],\n",
       "          [ 1.0937915 ],\n",
       "          [ 1.0573318 ],\n",
       "          ...,\n",
       "          [ 0.10937915],\n",
       "          [ 0.07291944],\n",
       "          [ 0.07291944]],\n",
       "\n",
       "         [[ 1.0573318 ],\n",
       "          [ 1.0573318 ],\n",
       "          [ 1.0573318 ],\n",
       "          ...,\n",
       "          [ 0.07291944],\n",
       "          [ 0.07291944],\n",
       "          [ 0.03645972]]],\n",
       "\n",
       "\n",
       "        [[[ 1.5313082 ],\n",
       "          [ 1.421929  ],\n",
       "          [ 1.3125498 ],\n",
       "          ...,\n",
       "          [ 0.32813746],\n",
       "          [ 0.32813746],\n",
       "          [ 0.32813746]],\n",
       "\n",
       "         [[ 1.5313082 ],\n",
       "          [ 1.4948484 ],\n",
       "          [ 1.3854692 ],\n",
       "          ...,\n",
       "          [ 0.29167774],\n",
       "          [ 0.29167774],\n",
       "          [ 0.29167774]],\n",
       "\n",
       "         [[ 1.5313082 ],\n",
       "          [ 1.4948484 ],\n",
       "          [ 1.5313082 ],\n",
       "          ...,\n",
       "          [ 0.36459717],\n",
       "          [ 0.36459717],\n",
       "          [ 0.36459717]],\n",
       "\n",
       "         ...,\n",
       "\n",
       "         [[ 1.0937915 ],\n",
       "          [ 1.0937915 ],\n",
       "          [ 1.0937915 ],\n",
       "          ...,\n",
       "          [ 0.18229859],\n",
       "          [ 0.18229859],\n",
       "          [ 0.14583887]],\n",
       "\n",
       "         [[ 1.0937915 ],\n",
       "          [ 1.0937915 ],\n",
       "          [ 1.0573318 ],\n",
       "          ...,\n",
       "          [ 0.14583887],\n",
       "          [ 0.10937915],\n",
       "          [ 0.07291944]],\n",
       "\n",
       "         [[ 1.0573318 ],\n",
       "          [ 1.0573318 ],\n",
       "          [ 1.0573318 ],\n",
       "          ...,\n",
       "          [ 0.07291944],\n",
       "          [ 0.07291944],\n",
       "          [ 0.07291944]]],\n",
       "\n",
       "\n",
       "        ...,\n",
       "\n",
       "\n",
       "        [[[ 1.4583887 ],\n",
       "          [ 1.3854692 ],\n",
       "          [ 1.4948484 ],\n",
       "          ...,\n",
       "          [ 0.4010569 ],\n",
       "          [ 0.32813746],\n",
       "          [ 0.32813746]],\n",
       "\n",
       "         [[ 1.5313082 ],\n",
       "          [ 1.5677679 ],\n",
       "          [ 1.3490095 ],\n",
       "          ...,\n",
       "          [ 0.4010569 ],\n",
       "          [ 0.32813746],\n",
       "          [ 0.32813746]],\n",
       "\n",
       "         [[ 1.4583887 ],\n",
       "          [ 1.4583887 ],\n",
       "          [ 1.421929  ],\n",
       "          ...,\n",
       "          [ 0.32813746],\n",
       "          [ 0.32813746],\n",
       "          [ 0.32813746]],\n",
       "\n",
       "         ...,\n",
       "\n",
       "         [[ 0.9844124 ],\n",
       "          [ 0.9844124 ],\n",
       "          [ 1.0208721 ],\n",
       "          ...,\n",
       "          [ 0.07291944],\n",
       "          [ 0.07291944],\n",
       "          [ 0.03645972]],\n",
       "\n",
       "         [[ 0.9844124 ],\n",
       "          [ 0.9844124 ],\n",
       "          [ 1.0208721 ],\n",
       "          ...,\n",
       "          [ 0.03645972],\n",
       "          [ 0.03645972],\n",
       "          [ 0.03645972]],\n",
       "\n",
       "         [[ 0.9844124 ],\n",
       "          [ 0.9844124 ],\n",
       "          [ 1.0208721 ],\n",
       "          ...,\n",
       "          [ 0.03645972],\n",
       "          [ 0.03645972],\n",
       "          [ 0.        ]]],\n",
       "\n",
       "\n",
       "        [[[ 1.4948484 ],\n",
       "          [ 1.5313082 ],\n",
       "          [ 1.4948484 ],\n",
       "          ...,\n",
       "          [ 0.32813746],\n",
       "          [ 0.29167774],\n",
       "          [ 0.29167774]],\n",
       "\n",
       "         [[ 1.6406872 ],\n",
       "          [ 1.5313082 ],\n",
       "          [ 1.4948484 ],\n",
       "          ...,\n",
       "          [ 0.32813746],\n",
       "          [ 0.29167774],\n",
       "          [ 0.29167774]],\n",
       "\n",
       "         [[ 1.421929  ],\n",
       "          [ 1.421929  ],\n",
       "          [ 1.421929  ],\n",
       "          ...,\n",
       "          [ 0.36459717],\n",
       "          [ 0.36459717],\n",
       "          [ 0.36459717]],\n",
       "\n",
       "         ...,\n",
       "\n",
       "         [[ 1.0937915 ],\n",
       "          [ 1.0208721 ],\n",
       "          [ 1.0573318 ],\n",
       "          ...,\n",
       "          [ 0.10937915],\n",
       "          [ 0.10937915],\n",
       "          [ 0.07291944]],\n",
       "\n",
       "         [[ 1.0208721 ],\n",
       "          [ 1.0208721 ],\n",
       "          [ 1.0573318 ],\n",
       "          ...,\n",
       "          [ 0.07291944],\n",
       "          [ 0.07291944],\n",
       "          [ 0.07291944]],\n",
       "\n",
       "         [[ 1.0208721 ],\n",
       "          [ 1.0208721 ],\n",
       "          [ 1.0573318 ],\n",
       "          ...,\n",
       "          [ 0.07291944],\n",
       "          [ 0.07291944],\n",
       "          [ 0.03645972]]],\n",
       "\n",
       "\n",
       "        [[[ 1.4583887 ],\n",
       "          [ 1.4948484 ],\n",
       "          [ 1.4948484 ],\n",
       "          ...,\n",
       "          [ 0.36459717],\n",
       "          [ 0.32813746],\n",
       "          [ 0.32813746]],\n",
       "\n",
       "         [[ 1.5677679 ],\n",
       "          [ 1.3854692 ],\n",
       "          [ 1.3854692 ],\n",
       "          ...,\n",
       "          [ 0.4010569 ],\n",
       "          [ 0.36459717],\n",
       "          [ 0.36459717]],\n",
       "\n",
       "         [[ 1.421929  ],\n",
       "          [ 1.421929  ],\n",
       "          [ 1.3854692 ],\n",
       "          ...,\n",
       "          [ 0.36459717],\n",
       "          [ 0.36459717],\n",
       "          [ 0.36459717]],\n",
       "\n",
       "         ...,\n",
       "\n",
       "         [[ 1.0937915 ],\n",
       "          [ 1.0208721 ],\n",
       "          [ 1.0573318 ],\n",
       "          ...,\n",
       "          [ 0.10937915],\n",
       "          [ 0.10937915],\n",
       "          [ 0.07291944]],\n",
       "\n",
       "         [[ 1.0208721 ],\n",
       "          [ 1.0208721 ],\n",
       "          [ 1.0573318 ],\n",
       "          ...,\n",
       "          [ 0.07291944],\n",
       "          [ 0.07291944],\n",
       "          [ 0.07291944]],\n",
       "\n",
       "         [[ 1.0208721 ],\n",
       "          [ 1.0208721 ],\n",
       "          [ 1.0573318 ],\n",
       "          ...,\n",
       "          [ 0.07291944],\n",
       "          [ 0.07291944],\n",
       "          [ 0.03645972]]]],\n",
       "\n",
       "\n",
       "\n",
       "       [[[[ 1.4237285 ],\n",
       "          [ 1.4237285 ],\n",
       "          [ 1.4644064 ],\n",
       "          ...,\n",
       "          [ 0.        ],\n",
       "          [ 0.08135591],\n",
       "          [ 0.08135591]],\n",
       "\n",
       "         [[ 1.4237285 ],\n",
       "          [ 1.4237285 ],\n",
       "          [ 1.4644064 ],\n",
       "          ...,\n",
       "          [ 0.        ],\n",
       "          [ 0.08135591],\n",
       "          [ 0.08135591]],\n",
       "\n",
       "         [[ 1.3830504 ],\n",
       "          [ 1.3830504 ],\n",
       "          [ 1.3830504 ],\n",
       "          ...,\n",
       "          [ 0.        ],\n",
       "          [ 0.        ],\n",
       "          [ 0.        ]],\n",
       "\n",
       "         ...,\n",
       "\n",
       "         [[ 0.9762709 ],\n",
       "          [ 0.9762709 ],\n",
       "          [ 0.9762709 ],\n",
       "          ...,\n",
       "          [10.169489  ],\n",
       "          [10.169489  ],\n",
       "          [10.169489  ]],\n",
       "\n",
       "         [[ 0.9762709 ],\n",
       "          [ 0.9762709 ],\n",
       "          [ 0.9762709 ],\n",
       "          ...,\n",
       "          [10.128811  ],\n",
       "          [10.128811  ],\n",
       "          [10.128811  ]],\n",
       "\n",
       "         [[ 0.9762709 ],\n",
       "          [ 0.9762709 ],\n",
       "          [ 0.9762709 ],\n",
       "          ...,\n",
       "          [10.128811  ],\n",
       "          [10.128811  ],\n",
       "          [10.128811  ]]],\n",
       "\n",
       "\n",
       "        [[[ 1.4237285 ],\n",
       "          [ 1.4237285 ],\n",
       "          [ 1.4237285 ],\n",
       "          ...,\n",
       "          [ 0.        ],\n",
       "          [ 0.        ],\n",
       "          [ 0.        ]],\n",
       "\n",
       "         [[ 1.4237285 ],\n",
       "          [ 1.4237285 ],\n",
       "          [ 1.4237285 ],\n",
       "          ...,\n",
       "          [ 0.        ],\n",
       "          [ 0.        ],\n",
       "          [ 0.        ]],\n",
       "\n",
       "         [[ 1.3830504 ],\n",
       "          [ 1.3830504 ],\n",
       "          [ 1.3830504 ],\n",
       "          ...,\n",
       "          [ 0.04067796],\n",
       "          [ 0.        ],\n",
       "          [ 0.        ]],\n",
       "\n",
       "         ...,\n",
       "\n",
       "         [[ 0.9762709 ],\n",
       "          [ 0.9762709 ],\n",
       "          [ 0.9762709 ],\n",
       "          ...,\n",
       "          [10.169489  ],\n",
       "          [10.169489  ],\n",
       "          [10.169489  ]],\n",
       "\n",
       "         [[ 0.9762709 ],\n",
       "          [ 0.9762709 ],\n",
       "          [ 0.9762709 ],\n",
       "          ...,\n",
       "          [10.128811  ],\n",
       "          [10.128811  ],\n",
       "          [10.128811  ]],\n",
       "\n",
       "         [[ 0.9762709 ],\n",
       "          [ 0.9762709 ],\n",
       "          [ 0.9762709 ],\n",
       "          ...,\n",
       "          [10.128811  ],\n",
       "          [10.128811  ],\n",
       "          [10.128811  ]]],\n",
       "\n",
       "\n",
       "        [[[ 1.4237285 ],\n",
       "          [ 1.4237285 ],\n",
       "          [ 1.4644064 ],\n",
       "          ...,\n",
       "          [ 0.04067796],\n",
       "          [ 0.        ],\n",
       "          [ 0.        ]],\n",
       "\n",
       "         [[ 1.4237285 ],\n",
       "          [ 1.4237285 ],\n",
       "          [ 1.4644064 ],\n",
       "          ...,\n",
       "          [ 0.04067796],\n",
       "          [ 0.        ],\n",
       "          [ 0.        ]],\n",
       "\n",
       "         [[ 1.4644064 ],\n",
       "          [ 1.4237285 ],\n",
       "          [ 1.4237285 ],\n",
       "          ...,\n",
       "          [ 0.        ],\n",
       "          [10.372879  ],\n",
       "          [10.372879  ]],\n",
       "\n",
       "         ...,\n",
       "\n",
       "         [[ 0.93559295],\n",
       "          [ 0.93559295],\n",
       "          [ 0.93559295],\n",
       "          ...,\n",
       "          [10.169489  ],\n",
       "          [10.169489  ],\n",
       "          [10.169489  ]],\n",
       "\n",
       "         [[ 0.93559295],\n",
       "          [ 0.93559295],\n",
       "          [ 0.93559295],\n",
       "          ...,\n",
       "          [10.128811  ],\n",
       "          [10.128811  ],\n",
       "          [10.128811  ]],\n",
       "\n",
       "         [[ 0.93559295],\n",
       "          [ 0.93559295],\n",
       "          [ 0.93559295],\n",
       "          ...,\n",
       "          [10.128811  ],\n",
       "          [10.128811  ],\n",
       "          [10.128811  ]]],\n",
       "\n",
       "\n",
       "        ...,\n",
       "\n",
       "\n",
       "        [[[ 1.4237285 ],\n",
       "          [ 1.4237285 ],\n",
       "          [ 1.4237285 ],\n",
       "          ...,\n",
       "          [ 0.        ],\n",
       "          [10.372879  ],\n",
       "          [10.372879  ]],\n",
       "\n",
       "         [[ 1.3830504 ],\n",
       "          [ 1.3830504 ],\n",
       "          [ 1.3830504 ],\n",
       "          ...,\n",
       "          [ 0.        ],\n",
       "          [10.372879  ],\n",
       "          [10.372879  ]],\n",
       "\n",
       "         [[ 1.3016946 ],\n",
       "          [ 1.3016946 ],\n",
       "          [ 1.3016946 ],\n",
       "          ...,\n",
       "          [10.372879  ],\n",
       "          [10.372879  ],\n",
       "          [10.372879  ]],\n",
       "\n",
       "         ...,\n",
       "\n",
       "         [[ 0.89491504],\n",
       "          [ 0.89491504],\n",
       "          [ 0.89491504],\n",
       "          ...,\n",
       "          [10.047455  ],\n",
       "          [10.047455  ],\n",
       "          [10.047455  ]],\n",
       "\n",
       "         [[ 0.89491504],\n",
       "          [ 0.89491504],\n",
       "          [ 0.89491504],\n",
       "          ...,\n",
       "          [10.047455  ],\n",
       "          [10.047455  ],\n",
       "          [10.047455  ]],\n",
       "\n",
       "         [[ 0.89491504],\n",
       "          [ 0.89491504],\n",
       "          [ 0.8542371 ],\n",
       "          ...,\n",
       "          [10.047455  ],\n",
       "          [10.047455  ],\n",
       "          [10.047455  ]]],\n",
       "\n",
       "\n",
       "        [[[ 1.4644064 ],\n",
       "          [ 1.4644064 ],\n",
       "          [ 1.4644064 ],\n",
       "          ...,\n",
       "          [10.332201  ],\n",
       "          [10.291523  ],\n",
       "          [10.291523  ]],\n",
       "\n",
       "         [[ 1.4237285 ],\n",
       "          [ 1.4237285 ],\n",
       "          [ 1.4237285 ],\n",
       "          ...,\n",
       "          [10.332201  ],\n",
       "          [10.291523  ],\n",
       "          [10.291523  ]],\n",
       "\n",
       "         [[ 1.3423725 ],\n",
       "          [ 1.3423725 ],\n",
       "          [ 1.3423725 ],\n",
       "          ...,\n",
       "          [10.372879  ],\n",
       "          [10.332201  ],\n",
       "          [10.332201  ]],\n",
       "\n",
       "         ...,\n",
       "\n",
       "         [[ 0.89491504],\n",
       "          [ 0.89491504],\n",
       "          [ 0.89491504],\n",
       "          ...,\n",
       "          [10.088133  ],\n",
       "          [10.088133  ],\n",
       "          [10.088133  ]],\n",
       "\n",
       "         [[ 0.89491504],\n",
       "          [ 0.89491504],\n",
       "          [ 0.89491504],\n",
       "          ...,\n",
       "          [10.088133  ],\n",
       "          [10.088133  ],\n",
       "          [10.088133  ]],\n",
       "\n",
       "         [[ 0.89491504],\n",
       "          [ 0.89491504],\n",
       "          [ 0.8542371 ],\n",
       "          ...,\n",
       "          [10.088133  ],\n",
       "          [10.088133  ],\n",
       "          [10.088133  ]]],\n",
       "\n",
       "\n",
       "        [[[ 1.4237285 ],\n",
       "          [ 1.4237285 ],\n",
       "          [ 1.3830504 ],\n",
       "          ...,\n",
       "          [10.372879  ],\n",
       "          [10.372879  ],\n",
       "          [10.372879  ]],\n",
       "\n",
       "         [[ 1.3830504 ],\n",
       "          [ 1.3830504 ],\n",
       "          [ 1.3423725 ],\n",
       "          ...,\n",
       "          [10.372879  ],\n",
       "          [10.372879  ],\n",
       "          [10.372879  ]],\n",
       "\n",
       "         [[ 1.3830504 ],\n",
       "          [ 1.3830504 ],\n",
       "          [ 1.3830504 ],\n",
       "          ...,\n",
       "          [ 0.        ],\n",
       "          [10.372879  ],\n",
       "          [10.372879  ]],\n",
       "\n",
       "         ...,\n",
       "\n",
       "         [[ 0.93559295],\n",
       "          [ 0.89491504],\n",
       "          [ 0.89491504],\n",
       "          ...,\n",
       "          [10.128811  ],\n",
       "          [10.128811  ],\n",
       "          [10.128811  ]],\n",
       "\n",
       "         [[ 0.9762709 ],\n",
       "          [ 0.93559295],\n",
       "          [ 0.93559295],\n",
       "          ...,\n",
       "          [10.088133  ],\n",
       "          [10.088133  ],\n",
       "          [10.088133  ]],\n",
       "\n",
       "         [[ 0.9762709 ],\n",
       "          [ 0.93559295],\n",
       "          [ 0.93559295],\n",
       "          ...,\n",
       "          [10.088133  ],\n",
       "          [10.088133  ],\n",
       "          [10.088133  ]]]]], dtype=float32)"
      ]
     },
     "execution_count": 46,
     "metadata": {},
     "output_type": "execute_result"
    }
   ],
   "source": [
    "val = sample.next(); val[0]"
   ]
  },
  {
   "cell_type": "code",
   "execution_count": null,
   "id": "acf5eb4f-a0da-4a9a-bf24-af13e9cc2fbe",
   "metadata": {
    "id": "acf5eb4f-a0da-4a9a-bf24-af13e9cc2fbe",
    "tags": []
   },
   "outputs": [],
   "source": [
    "#imageio.mimsave('./animation.gif', val[0][0], fps=10)"
   ]
  },
  {
   "cell_type": "code",
   "execution_count": 30,
   "id": "c33a87a2-d5e0-4ec9-b174-73ebf41bf03a",
   "metadata": {
    "colab": {
     "base_uri": "https://localhost:8080/",
     "height": 244
    },
    "id": "c33a87a2-d5e0-4ec9-b174-73ebf41bf03a",
    "outputId": "cede3f21-b130-4d48-af56-bfe5d336c0be",
    "tags": []
   },
   "outputs": [
    {
     "data": {
      "text/plain": [
       "<matplotlib.image.AxesImage at 0x7a6ccb648100>"
      ]
     },
     "execution_count": 30,
     "metadata": {},
     "output_type": "execute_result"
    },
    {
     "data": {
      "image/png": "[encoded data removed]",
      "text/plain": [
       "<Figure size 640x480 with 1 Axes>"
      ]
     },
     "metadata": {},
     "output_type": "display_data"
    }
   ],
   "source": [
    "# 0:videos, 0: 1st video out of the batch,  0: return the first frame in the video\n",
    "plt.imshow(val[0][0][35])"
   ]
  },
  {
   "cell_type": "code",
   "execution_count": 31,
   "id": "84593332-133c-4205-b7a6-8e235d5e2b3b",
   "metadata": {
    "colab": {
     "base_uri": "https://localhost:8080/"
    },
    "id": "84593332-133c-4205-b7a6-8e235d5e2b3b",
    "outputId": "57cd8f90-c100-42f7-8c63-3ca2772e2f41",
    "tags": []
   },
   "outputs": [
    {
     "data": {
      "text/plain": [
       "<tf.Tensor: shape=(), dtype=string, numpy=b'place green in d six please'>"
      ]
     },
     "execution_count": 31,
     "metadata": {},
     "output_type": "execute_result"
    }
   ],
   "source": [
    "tf.strings.reduce_join([num_to_char(word) for word in val[1][0]])"
   ]
  },
  {
   "cell_type": "markdown",
   "id": "0f47733c-83bc-465c-b118-b198b492ad37",
   "metadata": {
    "id": "0f47733c-83bc-465c-b118-b198b492ad37",
    "tags": []
   },
   "source": [
    "# 3. Design the Deep Neural Network"
   ]
  },
  {
   "cell_type": "code",
   "execution_count": 32,
   "id": "d8e9a497-191b-4842-afbd-26f5e13c43ba",
   "metadata": {
    "id": "d8e9a497-191b-4842-afbd-26f5e13c43ba",
    "tags": []
   },
   "outputs": [],
   "source": [
    "from tensorflow.keras.models import Sequential\n",
    "from tensorflow.keras.layers import Conv3D, LSTM, Dense, Dropout, Bidirectional, MaxPool3D, Activation, Reshape, SpatialDropout3D, BatchNormalization, TimeDistributed, Flatten\n",
    "from tensorflow.keras.optimizers import Adam\n",
    "from tensorflow.keras.callbacks import ModelCheckpoint, LearningRateScheduler"
   ]
  },
  {
   "cell_type": "code",
   "execution_count": 33,
   "id": "3f753ed2-70b9-4236-8c1c-08ca065dc8bf",
   "metadata": {
    "colab": {
     "base_uri": "https://localhost:8080/"
    },
    "id": "3f753ed2-70b9-4236-8c1c-08ca065dc8bf",
    "outputId": "c0718cbf-b6b9-45ee-bc85-5766d16075be"
   },
   "outputs": [
    {
     "data": {
      "text/plain": [
       "(75, 46, 140, 1)"
      ]
     },
     "execution_count": 33,
     "metadata": {},
     "output_type": "execute_result"
    }
   ],
   "source": [
    "data.as_numpy_iterator().next()[0][0].shape"
   ]
  },
  {
   "cell_type": "code",
   "execution_count": 120,
   "id": "f9171056-a352-491a-9ed9-92b28ced268e",
   "metadata": {
    "colab": {
     "base_uri": "https://localhost:8080/"
    },
    "id": "f9171056-a352-491a-9ed9-92b28ced268e",
    "outputId": "3c4cd6b1-8123-4f86-d391-75e2f69dd17e",
    "tags": []
   },
   "outputs": [
    {
     "name": "stderr",
     "output_type": "stream",
     "text": [
      "/home/jeevan/.local/lib/python3.10/site-packages/keras/src/layers/convolutional/base_conv.py:107: UserWarning: Do not pass an `input_shape`/`input_dim` argument to a layer. When using Sequential models, prefer using an `Input(shape)` object as the first layer in the model instead.\n",
      "  super().__init__(activity_regularizer=activity_regularizer, **kwargs)\n"
     ]
    }
   ],
   "source": [
    "from tensorflow.keras.layers import Reshape\n",
    "\n",
    "# Model architecture\n",
    "model = Sequential()\n",
    "model.add(Conv3D(128, 3, input_shape=(75, 46, 140, 1), padding='same'))\n",
    "model.add(Activation('relu'))\n",
    "model.add(MaxPool3D((1, 2, 2)))\n",
    "\n",
    "model.add(Conv3D(256, 3, padding='same'))\n",
    "model.add(Activation('relu'))\n",
    "model.add(MaxPool3D((1, 2, 2)))\n",
    "\n",
    "model.add(Conv3D(75, 3, padding='same'))\n",
    "model.add(Activation('relu'))\n",
    "model.add(MaxPool3D((1, 2, 2)))\n",
    "\n",
    "\n",
    "model.add(TimeDistributed(Reshape((-1,))))\n",
    "\n",
    "model.add(Bidirectional(LSTM(128, kernel_initializer='Orthogonal', return_sequences=True)))\n",
    "model.add(Dropout(0.5))\n",
    "\n",
    "model.add(Bidirectional(LSTM(128, kernel_initializer='Orthogonal', return_sequences=True)))\n",
    "model.add(Dropout(0.5))\n",
    "\n",
    "model.add(Dense(char_to_num.vocabulary_size() + 1, kernel_initializer='he_normal', activation='softmax'))\n"
   ]
  },
  {
   "cell_type": "code",
   "execution_count": 121,
   "id": "78851825-2bcd-42a9-b7f2-28bb5a6bf43a",
   "metadata": {
    "colab": {
     "base_uri": "https://localhost:8080/",
     "height": 646
    },
    "collapsed": true,
    "id": "78851825-2bcd-42a9-b7f2-28bb5a6bf43a",
    "jupyter": {
     "outputs_hidden": true
    },
    "outputId": "154db405-24c3-4292-86bf-688924114837",
    "tags": []
   },
   "outputs": [
    {
     "data": {
      "text/html": [
       "<pre style=\"white-space:pre;overflow-x:auto;line-height:normal;font-family:Menlo,'DejaVu Sans Mono',consolas,'Courier New',monospace\"><span style=\"font-weight: bold\">Model: \"sequential_5\"</span>\n",
       "</pre>\n"
      ],
      "text/plain": [
       "\u001b[1mModel: \"sequential_5\"\u001b[0m\n"
      ]
     },
     "metadata": {},
     "output_type": "display_data"
    },
    {
     "data": {
      "text/html": [
       "<pre style=\"white-space:pre;overflow-x:auto;line-height:normal;font-family:Menlo,'DejaVu Sans Mono',consolas,'Courier New',monospace\">┏━━━━━━━━━━━━━━━━━━━━━━━━━━━━━━━━━┳━━━━━━━━━━━━━━━━━━━━━━━━┳━━━━━━━━━━━━━━━┓\n",
       "┃<span style=\"font-weight: bold\"> Layer (type)                    </span>┃<span style=\"font-weight: bold\"> Output Shape           </span>┃<span style=\"font-weight: bold\">       Param # </span>┃\n",
       "┡━━━━━━━━━━━━━━━━━━━━━━━━━━━━━━━━━╇━━━━━━━━━━━━━━━━━━━━━━━━╇━━━━━━━━━━━━━━━┩\n",
       "│ conv3d_15 (<span style=\"color: #0087ff; text-decoration-color: #0087ff\">Conv3D</span>)              │ (<span style=\"color: #00d7ff; text-decoration-color: #00d7ff\">None</span>, <span style=\"color: #00af00; text-decoration-color: #00af00\">75</span>, <span style=\"color: #00af00; text-decoration-color: #00af00\">46</span>, <span style=\"color: #00af00; text-decoration-color: #00af00\">140</span>,    │         <span style=\"color: #00af00; text-decoration-color: #00af00\">3,584</span> │\n",
       "│                                 │ <span style=\"color: #00af00; text-decoration-color: #00af00\">128</span>)                   │               │\n",
       "├─────────────────────────────────┼────────────────────────┼───────────────┤\n",
       "│ activation_15 (<span style=\"color: #0087ff; text-decoration-color: #0087ff\">Activation</span>)      │ (<span style=\"color: #00d7ff; text-decoration-color: #00d7ff\">None</span>, <span style=\"color: #00af00; text-decoration-color: #00af00\">75</span>, <span style=\"color: #00af00; text-decoration-color: #00af00\">46</span>, <span style=\"color: #00af00; text-decoration-color: #00af00\">140</span>,    │             <span style=\"color: #00af00; text-decoration-color: #00af00\">0</span> │\n",
       "│                                 │ <span style=\"color: #00af00; text-decoration-color: #00af00\">128</span>)                   │               │\n",
       "├─────────────────────────────────┼────────────────────────┼───────────────┤\n",
       "│ max_pooling3d_15 (<span style=\"color: #0087ff; text-decoration-color: #0087ff\">MaxPooling3D</span>) │ (<span style=\"color: #00d7ff; text-decoration-color: #00d7ff\">None</span>, <span style=\"color: #00af00; text-decoration-color: #00af00\">75</span>, <span style=\"color: #00af00; text-decoration-color: #00af00\">23</span>, <span style=\"color: #00af00; text-decoration-color: #00af00\">70</span>,     │             <span style=\"color: #00af00; text-decoration-color: #00af00\">0</span> │\n",
       "│                                 │ <span style=\"color: #00af00; text-decoration-color: #00af00\">128</span>)                   │               │\n",
       "├─────────────────────────────────┼────────────────────────┼───────────────┤\n",
       "│ conv3d_16 (<span style=\"color: #0087ff; text-decoration-color: #0087ff\">Conv3D</span>)              │ (<span style=\"color: #00d7ff; text-decoration-color: #00d7ff\">None</span>, <span style=\"color: #00af00; text-decoration-color: #00af00\">75</span>, <span style=\"color: #00af00; text-decoration-color: #00af00\">23</span>, <span style=\"color: #00af00; text-decoration-color: #00af00\">70</span>,     │       <span style=\"color: #00af00; text-decoration-color: #00af00\">884,992</span> │\n",
       "│                                 │ <span style=\"color: #00af00; text-decoration-color: #00af00\">256</span>)                   │               │\n",
       "├─────────────────────────────────┼────────────────────────┼───────────────┤\n",
       "│ activation_16 (<span style=\"color: #0087ff; text-decoration-color: #0087ff\">Activation</span>)      │ (<span style=\"color: #00d7ff; text-decoration-color: #00d7ff\">None</span>, <span style=\"color: #00af00; text-decoration-color: #00af00\">75</span>, <span style=\"color: #00af00; text-decoration-color: #00af00\">23</span>, <span style=\"color: #00af00; text-decoration-color: #00af00\">70</span>,     │             <span style=\"color: #00af00; text-decoration-color: #00af00\">0</span> │\n",
       "│                                 │ <span style=\"color: #00af00; text-decoration-color: #00af00\">256</span>)                   │               │\n",
       "├─────────────────────────────────┼────────────────────────┼───────────────┤\n",
       "│ max_pooling3d_16 (<span style=\"color: #0087ff; text-decoration-color: #0087ff\">MaxPooling3D</span>) │ (<span style=\"color: #00d7ff; text-decoration-color: #00d7ff\">None</span>, <span style=\"color: #00af00; text-decoration-color: #00af00\">75</span>, <span style=\"color: #00af00; text-decoration-color: #00af00\">11</span>, <span style=\"color: #00af00; text-decoration-color: #00af00\">35</span>,     │             <span style=\"color: #00af00; text-decoration-color: #00af00\">0</span> │\n",
       "│                                 │ <span style=\"color: #00af00; text-decoration-color: #00af00\">256</span>)                   │               │\n",
       "├─────────────────────────────────┼────────────────────────┼───────────────┤\n",
       "│ conv3d_17 (<span style=\"color: #0087ff; text-decoration-color: #0087ff\">Conv3D</span>)              │ (<span style=\"color: #00d7ff; text-decoration-color: #00d7ff\">None</span>, <span style=\"color: #00af00; text-decoration-color: #00af00\">75</span>, <span style=\"color: #00af00; text-decoration-color: #00af00\">11</span>, <span style=\"color: #00af00; text-decoration-color: #00af00\">35</span>, <span style=\"color: #00af00; text-decoration-color: #00af00\">75</span>) │       <span style=\"color: #00af00; text-decoration-color: #00af00\">518,475</span> │\n",
       "├─────────────────────────────────┼────────────────────────┼───────────────┤\n",
       "│ activation_17 (<span style=\"color: #0087ff; text-decoration-color: #0087ff\">Activation</span>)      │ (<span style=\"color: #00d7ff; text-decoration-color: #00d7ff\">None</span>, <span style=\"color: #00af00; text-decoration-color: #00af00\">75</span>, <span style=\"color: #00af00; text-decoration-color: #00af00\">11</span>, <span style=\"color: #00af00; text-decoration-color: #00af00\">35</span>, <span style=\"color: #00af00; text-decoration-color: #00af00\">75</span>) │             <span style=\"color: #00af00; text-decoration-color: #00af00\">0</span> │\n",
       "├─────────────────────────────────┼────────────────────────┼───────────────┤\n",
       "│ max_pooling3d_17 (<span style=\"color: #0087ff; text-decoration-color: #0087ff\">MaxPooling3D</span>) │ (<span style=\"color: #00d7ff; text-decoration-color: #00d7ff\">None</span>, <span style=\"color: #00af00; text-decoration-color: #00af00\">75</span>, <span style=\"color: #00af00; text-decoration-color: #00af00\">5</span>, <span style=\"color: #00af00; text-decoration-color: #00af00\">17</span>, <span style=\"color: #00af00; text-decoration-color: #00af00\">75</span>)  │             <span style=\"color: #00af00; text-decoration-color: #00af00\">0</span> │\n",
       "├─────────────────────────────────┼────────────────────────┼───────────────┤\n",
       "│ time_distributed_4              │ (<span style=\"color: #00d7ff; text-decoration-color: #00d7ff\">None</span>, <span style=\"color: #00af00; text-decoration-color: #00af00\">75</span>, <span style=\"color: #00af00; text-decoration-color: #00af00\">6375</span>)       │             <span style=\"color: #00af00; text-decoration-color: #00af00\">0</span> │\n",
       "│ (<span style=\"color: #0087ff; text-decoration-color: #0087ff\">TimeDistributed</span>)               │                        │               │\n",
       "├─────────────────────────────────┼────────────────────────┼───────────────┤\n",
       "│ bidirectional_8 (<span style=\"color: #0087ff; text-decoration-color: #0087ff\">Bidirectional</span>) │ (<span style=\"color: #00d7ff; text-decoration-color: #00d7ff\">None</span>, <span style=\"color: #00af00; text-decoration-color: #00af00\">75</span>, <span style=\"color: #00af00; text-decoration-color: #00af00\">256</span>)        │     <span style=\"color: #00af00; text-decoration-color: #00af00\">6,660,096</span> │\n",
       "├─────────────────────────────────┼────────────────────────┼───────────────┤\n",
       "│ dropout_8 (<span style=\"color: #0087ff; text-decoration-color: #0087ff\">Dropout</span>)             │ (<span style=\"color: #00d7ff; text-decoration-color: #00d7ff\">None</span>, <span style=\"color: #00af00; text-decoration-color: #00af00\">75</span>, <span style=\"color: #00af00; text-decoration-color: #00af00\">256</span>)        │             <span style=\"color: #00af00; text-decoration-color: #00af00\">0</span> │\n",
       "├─────────────────────────────────┼────────────────────────┼───────────────┤\n",
       "│ bidirectional_9 (<span style=\"color: #0087ff; text-decoration-color: #0087ff\">Bidirectional</span>) │ (<span style=\"color: #00d7ff; text-decoration-color: #00d7ff\">None</span>, <span style=\"color: #00af00; text-decoration-color: #00af00\">75</span>, <span style=\"color: #00af00; text-decoration-color: #00af00\">256</span>)        │       <span style=\"color: #00af00; text-decoration-color: #00af00\">394,240</span> │\n",
       "├─────────────────────────────────┼────────────────────────┼───────────────┤\n",
       "│ dropout_9 (<span style=\"color: #0087ff; text-decoration-color: #0087ff\">Dropout</span>)             │ (<span style=\"color: #00d7ff; text-decoration-color: #00d7ff\">None</span>, <span style=\"color: #00af00; text-decoration-color: #00af00\">75</span>, <span style=\"color: #00af00; text-decoration-color: #00af00\">256</span>)        │             <span style=\"color: #00af00; text-decoration-color: #00af00\">0</span> │\n",
       "├─────────────────────────────────┼────────────────────────┼───────────────┤\n",
       "│ dense_4 (<span style=\"color: #0087ff; text-decoration-color: #0087ff\">Dense</span>)                 │ (<span style=\"color: #00d7ff; text-decoration-color: #00d7ff\">None</span>, <span style=\"color: #00af00; text-decoration-color: #00af00\">75</span>, <span style=\"color: #00af00; text-decoration-color: #00af00\">41</span>)         │        <span style=\"color: #00af00; text-decoration-color: #00af00\">10,537</span> │\n",
       "└─────────────────────────────────┴────────────────────────┴───────────────┘\n",
       "</pre>\n"
      ],
      "text/plain": [
       "┏━━━━━━━━━━━━━━━━━━━━━━━━━━━━━━━━━┳━━━━━━━━━━━━━━━━━━━━━━━━┳━━━━━━━━━━━━━━━┓\n",
       "┃\u001b[1m \u001b[0m\u001b[1mLayer (type)                   \u001b[0m\u001b[1m \u001b[0m┃\u001b[1m \u001b[0m\u001b[1mOutput Shape          \u001b[0m\u001b[1m \u001b[0m┃\u001b[1m \u001b[0m\u001b[1m      Param #\u001b[0m\u001b[1m \u001b[0m┃\n",
       "┡━━━━━━━━━━━━━━━━━━━━━━━━━━━━━━━━━╇━━━━━━━━━━━━━━━━━━━━━━━━╇━━━━━━━━━━━━━━━┩\n",
       "│ conv3d_15 (\u001b[38;5;33mConv3D\u001b[0m)              │ (\u001b[38;5;45mNone\u001b[0m, \u001b[38;5;34m75\u001b[0m, \u001b[38;5;34m46\u001b[0m, \u001b[38;5;34m140\u001b[0m,    │         \u001b[38;5;34m3,584\u001b[0m │\n",
       "│                                 │ \u001b[38;5;34m128\u001b[0m)                   │               │\n",
       "├─────────────────────────────────┼────────────────────────┼───────────────┤\n",
       "│ activation_15 (\u001b[38;5;33mActivation\u001b[0m)      │ (\u001b[38;5;45mNone\u001b[0m, \u001b[38;5;34m75\u001b[0m, \u001b[38;5;34m46\u001b[0m, \u001b[38;5;34m140\u001b[0m,    │             \u001b[38;5;34m0\u001b[0m │\n",
       "│                                 │ \u001b[38;5;34m128\u001b[0m)                   │               │\n",
       "├─────────────────────────────────┼────────────────────────┼───────────────┤\n",
       "│ max_pooling3d_15 (\u001b[38;5;33mMaxPooling3D\u001b[0m) │ (\u001b[38;5;45mNone\u001b[0m, \u001b[38;5;34m75\u001b[0m, \u001b[38;5;34m23\u001b[0m, \u001b[38;5;34m70\u001b[0m,     │             \u001b[38;5;34m0\u001b[0m │\n",
       "│                                 │ \u001b[38;5;34m128\u001b[0m)                   │               │\n",
       "├─────────────────────────────────┼────────────────────────┼───────────────┤\n",
       "│ conv3d_16 (\u001b[38;5;33mConv3D\u001b[0m)              │ (\u001b[38;5;45mNone\u001b[0m, \u001b[38;5;34m75\u001b[0m, \u001b[38;5;34m23\u001b[0m, \u001b[38;5;34m70\u001b[0m,     │       \u001b[38;5;34m884,992\u001b[0m │\n",
       "│                                 │ \u001b[38;5;34m256\u001b[0m)                   │               │\n",
       "├─────────────────────────────────┼────────────────────────┼───────────────┤\n",
       "│ activation_16 (\u001b[38;5;33mActivation\u001b[0m)      │ (\u001b[38;5;45mNone\u001b[0m, \u001b[38;5;34m75\u001b[0m, \u001b[38;5;34m23\u001b[0m, \u001b[38;5;34m70\u001b[0m,     │             \u001b[38;5;34m0\u001b[0m │\n",
       "│                                 │ \u001b[38;5;34m256\u001b[0m)                   │               │\n",
       "├─────────────────────────────────┼────────────────────────┼───────────────┤\n",
       "│ max_pooling3d_16 (\u001b[38;5;33mMaxPooling3D\u001b[0m) │ (\u001b[38;5;45mNone\u001b[0m, \u001b[38;5;34m75\u001b[0m, \u001b[38;5;34m11\u001b[0m, \u001b[38;5;34m35\u001b[0m,     │             \u001b[38;5;34m0\u001b[0m │\n",
       "│                                 │ \u001b[38;5;34m256\u001b[0m)                   │               │\n",
       "├─────────────────────────────────┼────────────────────────┼───────────────┤\n",
       "│ conv3d_17 (\u001b[38;5;33mConv3D\u001b[0m)              │ (\u001b[38;5;45mNone\u001b[0m, \u001b[38;5;34m75\u001b[0m, \u001b[38;5;34m11\u001b[0m, \u001b[38;5;34m35\u001b[0m, \u001b[38;5;34m75\u001b[0m) │       \u001b[38;5;34m518,475\u001b[0m │\n",
       "├─────────────────────────────────┼────────────────────────┼───────────────┤\n",
       "│ activation_17 (\u001b[38;5;33mActivation\u001b[0m)      │ (\u001b[38;5;45mNone\u001b[0m, \u001b[38;5;34m75\u001b[0m, \u001b[38;5;34m11\u001b[0m, \u001b[38;5;34m35\u001b[0m, \u001b[38;5;34m75\u001b[0m) │             \u001b[38;5;34m0\u001b[0m │\n",
       "├─────────────────────────────────┼────────────────────────┼───────────────┤\n",
       "│ max_pooling3d_17 (\u001b[38;5;33mMaxPooling3D\u001b[0m) │ (\u001b[38;5;45mNone\u001b[0m, \u001b[38;5;34m75\u001b[0m, \u001b[38;5;34m5\u001b[0m, \u001b[38;5;34m17\u001b[0m, \u001b[38;5;34m75\u001b[0m)  │             \u001b[38;5;34m0\u001b[0m │\n",
       "├─────────────────────────────────┼────────────────────────┼───────────────┤\n",
       "│ time_distributed_4              │ (\u001b[38;5;45mNone\u001b[0m, \u001b[38;5;34m75\u001b[0m, \u001b[38;5;34m6375\u001b[0m)       │             \u001b[38;5;34m0\u001b[0m │\n",
       "│ (\u001b[38;5;33mTimeDistributed\u001b[0m)               │                        │               │\n",
       "├─────────────────────────────────┼────────────────────────┼───────────────┤\n",
       "│ bidirectional_8 (\u001b[38;5;33mBidirectional\u001b[0m) │ (\u001b[38;5;45mNone\u001b[0m, \u001b[38;5;34m75\u001b[0m, \u001b[38;5;34m256\u001b[0m)        │     \u001b[38;5;34m6,660,096\u001b[0m │\n",
       "├─────────────────────────────────┼────────────────────────┼───────────────┤\n",
       "│ dropout_8 (\u001b[38;5;33mDropout\u001b[0m)             │ (\u001b[38;5;45mNone\u001b[0m, \u001b[38;5;34m75\u001b[0m, \u001b[38;5;34m256\u001b[0m)        │             \u001b[38;5;34m0\u001b[0m │\n",
       "├─────────────────────────────────┼────────────────────────┼───────────────┤\n",
       "│ bidirectional_9 (\u001b[38;5;33mBidirectional\u001b[0m) │ (\u001b[38;5;45mNone\u001b[0m, \u001b[38;5;34m75\u001b[0m, \u001b[38;5;34m256\u001b[0m)        │       \u001b[38;5;34m394,240\u001b[0m │\n",
       "├─────────────────────────────────┼────────────────────────┼───────────────┤\n",
       "│ dropout_9 (\u001b[38;5;33mDropout\u001b[0m)             │ (\u001b[38;5;45mNone\u001b[0m, \u001b[38;5;34m75\u001b[0m, \u001b[38;5;34m256\u001b[0m)        │             \u001b[38;5;34m0\u001b[0m │\n",
       "├─────────────────────────────────┼────────────────────────┼───────────────┤\n",
       "│ dense_4 (\u001b[38;5;33mDense\u001b[0m)                 │ (\u001b[38;5;45mNone\u001b[0m, \u001b[38;5;34m75\u001b[0m, \u001b[38;5;34m41\u001b[0m)         │        \u001b[38;5;34m10,537\u001b[0m │\n",
       "└─────────────────────────────────┴────────────────────────┴───────────────┘\n"
      ]
     },
     "metadata": {},
     "output_type": "display_data"
    },
    {
     "data": {
      "text/html": [
       "<pre style=\"white-space:pre;overflow-x:auto;line-height:normal;font-family:Menlo,'DejaVu Sans Mono',consolas,'Courier New',monospace\"><span style=\"font-weight: bold\"> Total params: </span><span style=\"color: #00af00; text-decoration-color: #00af00\">8,471,924</span> (32.32 MB)\n",
       "</pre>\n"
      ],
      "text/plain": [
       "\u001b[1m Total params: \u001b[0m\u001b[38;5;34m8,471,924\u001b[0m (32.32 MB)\n"
      ]
     },
     "metadata": {},
     "output_type": "display_data"
    },
    {
     "data": {
      "text/html": [
       "<pre style=\"white-space:pre;overflow-x:auto;line-height:normal;font-family:Menlo,'DejaVu Sans Mono',consolas,'Courier New',monospace\"><span style=\"font-weight: bold\"> Trainable params: </span><span style=\"color: #00af00; text-decoration-color: #00af00\">8,471,924</span> (32.32 MB)\n",
       "</pre>\n"
      ],
      "text/plain": [
       "\u001b[1m Trainable params: \u001b[0m\u001b[38;5;34m8,471,924\u001b[0m (32.32 MB)\n"
      ]
     },
     "metadata": {},
     "output_type": "display_data"
    },
    {
     "data": {
      "text/html": [
       "<pre style=\"white-space:pre;overflow-x:auto;line-height:normal;font-family:Menlo,'DejaVu Sans Mono',consolas,'Courier New',monospace\"><span style=\"font-weight: bold\"> Non-trainable params: </span><span style=\"color: #00af00; text-decoration-color: #00af00\">0</span> (0.00 B)\n",
       "</pre>\n"
      ],
      "text/plain": [
       "\u001b[1m Non-trainable params: \u001b[0m\u001b[38;5;34m0\u001b[0m (0.00 B)\n"
      ]
     },
     "metadata": {},
     "output_type": "display_data"
    }
   ],
   "source": [
    "model.summary()"
   ]
  },
  {
   "cell_type": "code",
   "execution_count": 122,
   "id": "f4b4798c-a65a-4c47-9e2a-3b09dc98d320",
   "metadata": {
    "colab": {
     "base_uri": "https://localhost:8080/"
    },
    "id": "f4b4798c-a65a-4c47-9e2a-3b09dc98d320",
    "outputId": "33f909d8-95cc-4eb8-8eaa-7435877c4bd8"
   },
   "outputs": [
    {
     "data": {
      "text/plain": [
       "6375"
      ]
     },
     "execution_count": 122,
     "metadata": {},
     "output_type": "execute_result"
    }
   ],
   "source": [
    "5*17*75"
   ]
  },
  {
   "cell_type": "code",
   "execution_count": 47,
   "id": "e5c2eae0-c359-41a4-97a0-75c44dccb7d1",
   "metadata": {
    "colab": {
     "base_uri": "https://localhost:8080/"
    },
    "id": "e5c2eae0-c359-41a4-97a0-75c44dccb7d1",
    "outputId": "85216e33-c465-4f99-f196-42ed671170cf",
    "tags": []
   },
   "outputs": [
    {
     "name": "stdout",
     "output_type": "stream",
     "text": [
      "\u001b[1m1/1\u001b[0m \u001b[32m━━━━━━━━━━━━━━━━━━━━\u001b[0m\u001b[37m\u001b[0m \u001b[1m0s\u001b[0m 20ms/step\n"
     ]
    }
   ],
   "source": [
    "yhat = model.predict(val[0])"
   ]
  },
  {
   "cell_type": "code",
   "execution_count": 48,
   "id": "ffdc7319-0d69-4f7e-a6d4-ce72deb81c0b",
   "metadata": {
    "colab": {
     "base_uri": "https://localhost:8080/"
    },
    "id": "ffdc7319-0d69-4f7e-a6d4-ce72deb81c0b",
    "outputId": "030ebcec-f44c-44b5-9e5d-206d3a07116f"
   },
   "outputs": [
    {
     "data": {
      "text/plain": [
       "<tf.Tensor: shape=(), dtype=string, numpy=b'place  bbluuue  wwitth  dd  zeeroooo  pplleeaasseee'>"
      ]
     },
     "execution_count": 48,
     "metadata": {},
     "output_type": "execute_result"
    }
   ],
   "source": [
    "tf.strings.reduce_join([num_to_char(x) for x in tf.argmax(yhat[0],axis=1)])"
   ]
  },
  {
   "cell_type": "code",
   "execution_count": 49,
   "id": "6ed47531-8317-4255-9a12-b757642258e6",
   "metadata": {
    "colab": {
     "base_uri": "https://localhost:8080/"
    },
    "id": "6ed47531-8317-4255-9a12-b757642258e6",
    "outputId": "e3da4598-d81b-43b9-9631-834b938d8fec",
    "tags": []
   },
   "outputs": [
    {
     "data": {
      "text/plain": [
       "<tf.Tensor: shape=(), dtype=string, numpy=b'place  bbluuue  wwitth  dd  zeeroooo  pplleeaasseee'>"
      ]
     },
     "execution_count": 49,
     "metadata": {},
     "output_type": "execute_result"
    }
   ],
   "source": [
    "tf.strings.reduce_join([num_to_char(tf.argmax(x)) for x in yhat[0]])"
   ]
  },
  {
   "cell_type": "code",
   "execution_count": 50,
   "id": "7c37b9b9-5298-4038-9c33-5031d1b457f0",
   "metadata": {
    "colab": {
     "base_uri": "https://localhost:8080/"
    },
    "id": "7c37b9b9-5298-4038-9c33-5031d1b457f0",
    "outputId": "2d04e5bb-186a-4e66-c5f5-9c5f75aa10e9",
    "tags": []
   },
   "outputs": [
    {
     "data": {
      "text/plain": [
       "(None, 75, 46, 140, 1)"
      ]
     },
     "execution_count": 50,
     "metadata": {},
     "output_type": "execute_result"
    }
   ],
   "source": [
    "model.input_shape"
   ]
  },
  {
   "cell_type": "code",
   "execution_count": 51,
   "id": "98b316a4-5322-4782-8e36-4b3c1a696d85",
   "metadata": {
    "colab": {
     "base_uri": "https://localhost:8080/"
    },
    "id": "98b316a4-5322-4782-8e36-4b3c1a696d85",
    "outputId": "4652b0a6-eb19-40ef-d283-527ce3d33352",
    "tags": []
   },
   "outputs": [
    {
     "data": {
      "text/plain": [
       "(None, 75, 41)"
      ]
     },
     "execution_count": 51,
     "metadata": {},
     "output_type": "execute_result"
    }
   ],
   "source": [
    "model.output_shape"
   ]
  },
  {
   "cell_type": "markdown",
   "id": "2ec02176-5c26-46c3-aff7-8352e6563c7d",
   "metadata": {
    "id": "2ec02176-5c26-46c3-aff7-8352e6563c7d",
    "tags": []
   },
   "source": [
    "# 4. Setup Training Options and Train"
   ]
  },
  {
   "cell_type": "code",
   "execution_count": 39,
   "id": "ab015fd0-7fb4-4d5d-9fa2-30a05dbd515a",
   "metadata": {
    "id": "ab015fd0-7fb4-4d5d-9fa2-30a05dbd515a",
    "tags": []
   },
   "outputs": [],
   "source": [
    "def scheduler(epoch, lr):\n",
    "    if epoch < 30:\n",
    "        return lr\n",
    "    else:\n",
    "        return lr\n",
    "    "
   ]
  },
  {
   "cell_type": "code",
   "execution_count": 34,
   "id": "c564d5c9-db54-4e88-b311-9aeab7fb3e69",
   "metadata": {
    "id": "c564d5c9-db54-4e88-b311-9aeab7fb3e69",
    "tags": []
   },
   "outputs": [],
   "source": [
    "@tf.keras.utils.register_keras_serializable()\n",
    "def CTCLoss(y_true, y_pred):\n",
    "    batch_len = tf.cast(tf.shape(y_true)[0], dtype=\"int64\")\n",
    "    input_length = tf.cast(tf.shape(y_pred)[1], dtype=\"int64\")\n",
    "    label_length = tf.cast(tf.shape(y_true)[1], dtype=\"int64\")\n",
    "\n",
    "    input_length = input_length * tf.ones(shape=(batch_len, 1), dtype=\"int64\")\n",
    "    label_length = label_length * tf.ones(shape=(batch_len, 1), dtype=\"int64\")\n",
    "\n",
    "    loss = tf.keras.backend.ctc_batch_cost(y_true, y_pred, input_length, label_length)\n",
    "    return loss"
   ]
  },
  {
   "cell_type": "code",
   "execution_count": 109,
   "id": "a26dc3fc-a19c-4378-bd8c-e2b597a1d15c",
   "metadata": {
    "id": "a26dc3fc-a19c-4378-bd8c-e2b597a1d15c",
    "tags": []
   },
   "outputs": [
    {
     "data": {
      "text/plain": [
       "\"\\nclass ProduceExample(tf.keras.callbacks.Callback):\\n    def __init__(self, dataset) -> None:\\n        self.dataset = dataset.as_numpy_iterator()\\n\\n    def on_epoch_end(self, epoch, logs=None) -> None:\\n        data = self.dataset.next()\\n        yhat = self.model.predict(data[0])\\n        decoded = tf.keras.backend.ctc_decode(yhat, [75,75], greedy=False)[0][0].numpy()\\n        print('Original:', tf.strings.reduce_join(num_to_char(data[1][0])).numpy().decode('utf-8'))\\n        print('Prediction:', tf.strings.reduce_join(num_to_char(decoded[0])).numpy().decode('utf-8'))\\n        print('~'*100)\\n\""
      ]
     },
     "execution_count": 109,
     "metadata": {},
     "output_type": "execute_result"
    }
   ],
   "source": [
    "'''\n",
    "class ProduceExample(tf.keras.callbacks.Callback):\n",
    "    def __init__(self, dataset) -> None:\n",
    "        self.dataset = dataset.as_numpy_iterator()\n",
    "\n",
    "    def on_epoch_end(self, epoch, logs=None) -> None:\n",
    "        data = self.dataset.next()\n",
    "        yhat = self.model.predict(data[0])\n",
    "        decoded = tf.keras.backend.ctc_decode(yhat, [75,75], greedy=False)[0][0].numpy()\n",
    "        print('Original:', tf.strings.reduce_join(num_to_char(data[1][0])).numpy().decode('utf-8'))\n",
    "        print('Prediction:', tf.strings.reduce_join(num_to_char(decoded[0])).numpy().decode('utf-8'))\n",
    "        print('~'*100)\n",
    "'''"
   ]
  },
  {
   "cell_type": "code",
   "execution_count": 35,
   "id": "a2d0e052",
   "metadata": {},
   "outputs": [],
   "source": [
    "class ProduceExample(tf.keras.callbacks.Callback):\n",
    "    def __init__(self, dataset) -> None:\n",
    "        super().__init__()  # Ensure to call the parent constructor\n",
    "        self.dataset = dataset.as_numpy_iterator()\n",
    "        self.data_iterator = None  # Initialize a data iterator\n",
    "\n",
    "    def on_epoch_begin(self, epoch, logs=None) -> None:\n",
    "        # Reset the iterator at the beginning of each epoch\n",
    "        self.data_iterator = self.dataset\n",
    "\n",
    "    def on_epoch_end(self, epoch, logs=None) -> None:\n",
    "        # Get the next batch of data\n",
    "        try:\n",
    "            data = next(self.data_iterator)\n",
    "            yhat = self.model.predict(data[0])\n",
    "            decoded = tf.keras.backend.ctc_decode(yhat, [75, 75], greedy=False)[0][0].numpy()\n",
    "\n",
    "            # Decode and print original and predicted strings\n",
    "            original_str = tf.strings.reduce_join(num_to_char(data[1][0])).numpy().decode('utf-8')\n",
    "            predicted_str = tf.strings.reduce_join(num_to_char(decoded[0])).numpy().decode('utf-8')\n",
    "\n",
    "            print('Original:', original_str)\n",
    "            print('Prediction:', predicted_str)\n",
    "            print('~' * 100)\n",
    "\n",
    "        except StopIteration:\n",
    "            print(\"No more data available for predictions.\")\n"
   ]
  },
  {
   "cell_type": "code",
   "execution_count": 52,
   "id": "04be90d8-2482-46f9-b513-d5f4f8001c7e",
   "metadata": {
    "id": "04be90d8-2482-46f9-b513-d5f4f8001c7e",
    "tags": []
   },
   "outputs": [],
   "source": [
    "model.compile(optimizer=Adam(learning_rate=0.0001), loss=CTCLoss)"
   ]
  },
  {
   "cell_type": "code",
   "execution_count": 132,
   "id": "eab49367-3f1e-4464-ae76-dbd07549d97e",
   "metadata": {
    "id": "eab49367-3f1e-4464-ae76-dbd07549d97e",
    "tags": []
   },
   "outputs": [],
   "source": [
    "checkpoint_callback = ModelCheckpoint(os.path.join('models','checkpoint','fifty.weights.h5'), monitor='loss', save_weights_only=True)"
   ]
  },
  {
   "cell_type": "code",
   "execution_count": 133,
   "id": "e085a632-d464-46ef-8777-959cad4adb2c",
   "metadata": {
    "id": "e085a632-d464-46ef-8777-959cad4adb2c",
    "tags": []
   },
   "outputs": [],
   "source": [
    "schedule_callback = LearningRateScheduler(scheduler)"
   ]
  },
  {
   "cell_type": "code",
   "execution_count": 53,
   "id": "48eca991-90ab-4592-8a79-b50e9ca015b6",
   "metadata": {
    "id": "48eca991-90ab-4592-8a79-b50e9ca015b6",
    "tags": []
   },
   "outputs": [],
   "source": [
    "example_callback = ProduceExample(test)"
   ]
  },
  {
   "cell_type": "code",
   "execution_count": null,
   "id": "8ffba483-aa61-4bbe-a15f-a73e1ddf097c",
   "metadata": {
    "colab": {
     "base_uri": "https://localhost:8080/",
     "height": 1000
    },
    "id": "8ffba483-aa61-4bbe-a15f-a73e1ddf097c",
    "outputId": "31694f0a-be1c-4c0a-e32a-5ef8d7a30b9f",
    "tags": []
   },
   "outputs": [],
   "source": [
    "model.fit(train, validation_data=valid, epochs=80, callbacks=[example_callback])"
   ]
  },
  {
   "cell_type": "markdown",
   "id": "2cfb49ce",
   "metadata": {},
   "source": [
    "## Save model"
   ]
  },
  {
   "cell_type": "code",
   "execution_count": 55,
   "id": "8142cd37",
   "metadata": {},
   "outputs": [],
   "source": [
    "model.save('80_10_10.keras')"
   ]
  },
  {
   "cell_type": "markdown",
   "id": "fa8ee94b-89f7-4733-8a0c-a86f86ff590a",
   "metadata": {
    "id": "fa8ee94b-89f7-4733-8a0c-a86f86ff590a",
    "tags": []
   },
   "source": [
    "# 5. Make a Prediction"
   ]
  },
  {
   "cell_type": "code",
   "execution_count": 36,
   "id": "ae0a7692",
   "metadata": {},
   "outputs": [
    {
     "name": "stderr",
     "output_type": "stream",
     "text": [
      "/home/jeevan/.local/lib/python3.10/site-packages/keras/src/saving/saving_lib.py:713: UserWarning: Skipping variable loading for optimizer 'adam', because it has 42 variables whereas the saved optimizer has 2 variables. \n",
      "  saveable.load_own_variables(weights_store.get(inner_path))\n"
     ]
    }
   ],
   "source": [
    "from tensorflow.keras.models import load_model\n",
    "model = load_model(\"model.keras\", custom_objects={'ctc_loss': CTCLoss})"
   ]
  },
  {
   "cell_type": "code",
   "execution_count": 37,
   "id": "7f8d689f-b7bb-443c-9b88-e40c1d800828",
   "metadata": {
    "id": "7f8d689f-b7bb-443c-9b88-e40c1d800828",
    "tags": []
   },
   "outputs": [],
   "source": [
    "test_data = test.as_numpy_iterator()"
   ]
  },
  {
   "cell_type": "code",
   "execution_count": 52,
   "id": "38546dc2-bee9-4837-864b-8a884df40ad7",
   "metadata": {
    "id": "38546dc2-bee9-4837-864b-8a884df40ad7",
    "tags": []
   },
   "outputs": [
    {
     "name": "stderr",
     "output_type": "stream",
     "text": [
      "[mpeg1video @ 0x7a6568195940] ac-tex damaged at 22 17\n",
      "[mpeg1video @ 0x7a6568195940] Warning MVs not available\n"
     ]
    }
   ],
   "source": [
    "sample = test_data.next()"
   ]
  },
  {
   "cell_type": "code",
   "execution_count": 53,
   "id": "a43621f0-229d-4c0d-9554-9c3a3da9c61a",
   "metadata": {
    "id": "a43621f0-229d-4c0d-9554-9c3a3da9c61a",
    "tags": []
   },
   "outputs": [
    {
     "name": "stdout",
     "output_type": "stream",
     "text": [
      "\u001b[1m1/1\u001b[0m \u001b[32m━━━━━━━━━━━━━━━━━━━━\u001b[0m\u001b[37m\u001b[0m \u001b[1m0s\u001b[0m 20ms/step\n"
     ]
    }
   ],
   "source": [
    "yhat = model.predict(sample[0])"
   ]
  },
  {
   "cell_type": "code",
   "execution_count": 54,
   "id": "ea462999-f87e-4a7e-a057-5be7b6d8f7d5",
   "metadata": {
    "id": "ea462999-f87e-4a7e-a057-5be7b6d8f7d5",
    "tags": []
   },
   "outputs": [
    {
     "name": "stdout",
     "output_type": "stream",
     "text": [
      "~~~~~~~~~~~~~~~~~~~~~~~~~~~~~~~~~~~~~~~~~~~~~~~~~~~~~~~~~~~~~~~~~~~~~~~~~~~~~~~~~~~~~~~~~~~~~~~~~~~~ REAL TEXT\n"
     ]
    },
    {
     "data": {
      "text/plain": [
       "[<tf.Tensor: shape=(), dtype=string, numpy=b'lay blue at x nine soon'>,\n",
       " <tf.Tensor: shape=(), dtype=string, numpy=b'set red by b seven again'>]"
      ]
     },
     "execution_count": 54,
     "metadata": {},
     "output_type": "execute_result"
    }
   ],
   "source": [
    "print('~'*100, 'REAL TEXT')\n",
    "[tf.strings.reduce_join([num_to_char(word) for word in sentence]) for sentence in sample[1]]"
   ]
  },
  {
   "cell_type": "code",
   "execution_count": 55,
   "id": "82bd4c10-dd6e-411e-834b-2a3b43fd12c5",
   "metadata": {
    "id": "82bd4c10-dd6e-411e-834b-2a3b43fd12c5",
    "tags": []
   },
   "outputs": [],
   "source": [
    "decoded = tf.keras.backend.ctc_decode(yhat, input_length=[75,75], greedy=True)[0][0].numpy()"
   ]
  },
  {
   "cell_type": "code",
   "execution_count": 56,
   "id": "5d68ac46-c90b-4eab-a709-f19aee569ff5",
   "metadata": {
    "id": "5d68ac46-c90b-4eab-a709-f19aee569ff5",
    "tags": []
   },
   "outputs": [
    {
     "name": "stdout",
     "output_type": "stream",
     "text": [
      "~~~~~~~~~~~~~~~~~~~~~~~~~~~~~~~~~~~~~~~~~~~~~~~~~~~~~~~~~~~~~~~~~~~~~~~~~~~~~~~~~~~~~~~~~~~~~~~~~~~~ PREDICTIONS\n"
     ]
    },
    {
     "data": {
      "text/plain": [
       "[<tf.Tensor: shape=(), dtype=string, numpy=b'lay blue at x nine soon'>,\n",
       " <tf.Tensor: shape=(), dtype=string, numpy=b'set red by b seven again'>]"
      ]
     },
     "execution_count": 56,
     "metadata": {},
     "output_type": "execute_result"
    }
   ],
   "source": [
    "print('~'*100, 'PREDICTIONS')\n",
    "[tf.strings.reduce_join([num_to_char(word) for word in sentence]) for sentence in decoded]"
   ]
  },
  {
   "cell_type": "markdown",
   "id": "64622f98-e99b-4fed-a2cc-f0da82eb5431",
   "metadata": {
    "id": "64622f98-e99b-4fed-a2cc-f0da82eb5431"
   },
   "source": [
    "# Test on a Video"
   ]
  },
  {
   "cell_type": "code",
   "execution_count": 46,
   "id": "a8b0c4d0-2031-4331-b91d-d87b1ae6f6e2",
   "metadata": {
    "id": "a8b0c4d0-2031-4331-b91d-d87b1ae6f6e2"
   },
   "outputs": [],
   "source": [
    "sample = load_data(tf.convert_to_tensor('data/s1/swiu6p.mpg'))"
   ]
  },
  {
   "cell_type": "code",
   "execution_count": 47,
   "id": "0cca60e4-47a9-4683-8a75-48f4684f723d",
   "metadata": {
    "id": "0cca60e4-47a9-4683-8a75-48f4684f723d"
   },
   "outputs": [
    {
     "name": "stdout",
     "output_type": "stream",
     "text": [
      "~~~~~~~~~~~~~~~~~~~~~~~~~~~~~~~~~~~~~~~~~~~~~~~~~~~~~~~~~~~~~~~~~~~~~~~~~~~~~~~~~~~~~~~~~~~~~~~~~~~~ REAL TEXT\n"
     ]
    },
    {
     "data": {
      "text/plain": [
       "[<tf.Tensor: shape=(), dtype=string, numpy=b'set white in u six please'>]"
      ]
     },
     "execution_count": 47,
     "metadata": {},
     "output_type": "execute_result"
    }
   ],
   "source": [
    "print('~'*100, 'REAL TEXT')\n",
    "[tf.strings.reduce_join([num_to_char(word) for word in sentence]) for sentence in [sample[1]]]"
   ]
  },
  {
   "cell_type": "code",
   "execution_count": 48,
   "id": "8cc5037c-1e32-435c-b0cc-01e1fb3b863c",
   "metadata": {
    "id": "8cc5037c-1e32-435c-b0cc-01e1fb3b863c"
   },
   "outputs": [
    {
     "name": "stdout",
     "output_type": "stream",
     "text": [
      "\u001b[1m1/1\u001b[0m \u001b[32m━━━━━━━━━━━━━━━━━━━━\u001b[0m\u001b[37m\u001b[0m \u001b[1m0s\u001b[0m 75ms/step\n"
     ]
    }
   ],
   "source": [
    "yhat = model.predict(tf.expand_dims(sample[0], axis=0))"
   ]
  },
  {
   "cell_type": "code",
   "execution_count": 49,
   "id": "22c4f77d-715d-409f-bc5e-3ebe48704e8f",
   "metadata": {
    "id": "22c4f77d-715d-409f-bc5e-3ebe48704e8f"
   },
   "outputs": [],
   "source": [
    "decoded = tf.keras.backend.ctc_decode(yhat, input_length=[75], greedy=True)[0][0].numpy()"
   ]
  },
  {
   "cell_type": "code",
   "execution_count": 50,
   "id": "e4d12ecc-b634-499e-a4bc-db9f010835fb",
   "metadata": {
    "id": "e4d12ecc-b634-499e-a4bc-db9f010835fb"
   },
   "outputs": [
    {
     "name": "stdout",
     "output_type": "stream",
     "text": [
      "~~~~~~~~~~~~~~~~~~~~~~~~~~~~~~~~~~~~~~~~~~~~~~~~~~~~~~~~~~~~~~~~~~~~~~~~~~~~~~~~~~~~~~~~~~~~~~~~~~~~ PREDICTIONS\n"
     ]
    },
    {
     "data": {
      "text/plain": [
       "[<tf.Tensor: shape=(), dtype=string, numpy=b'set white in u six please'>]"
      ]
     },
     "execution_count": 50,
     "metadata": {},
     "output_type": "execute_result"
    }
   ],
   "source": [
    "print('~'*100, 'PREDICTIONS')\n",
    "[tf.strings.reduce_join([num_to_char(word) for word in sentence]) for sentence in decoded]"
   ]
  },
  {
   "cell_type": "markdown",
   "id": "13a057bd",
   "metadata": {},
   "source": [
    "# CER and WER"
   ]
  },
  {
   "cell_type": "code",
   "execution_count": 57,
   "id": "551dfea2-de6b-4400-b71a-a17631529e3f",
   "metadata": {
    "id": "551dfea2-de6b-4400-b71a-a17631529e3f"
   },
   "outputs": [
    {
     "name": "stderr",
     "output_type": "stream",
     "text": [
      "[mpeg1video @ 0x7a697401c100] ac-tex damaged at 22 17\n",
      "[mpeg1video @ 0x7a697401c100] Warning MVs not available\n"
     ]
    },
    {
     "name": "stdout",
     "output_type": "stream",
     "text": [
      "\u001b[1m1/1\u001b[0m \u001b[32m━━━━━━━━━━━━━━━━━━━━\u001b[0m\u001b[37m\u001b[0m \u001b[1m0s\u001b[0m 131ms/step\n",
      "\u001b[1m1/1\u001b[0m \u001b[32m━━━━━━━━━━━━━━━━━━━━\u001b[0m\u001b[37m\u001b[0m \u001b[1m0s\u001b[0m 121ms/step\n",
      "\u001b[1m1/1\u001b[0m \u001b[32m━━━━━━━━━━━━━━━━━━━━\u001b[0m\u001b[37m\u001b[0m \u001b[1m0s\u001b[0m 120ms/step\n",
      "\u001b[1m1/1\u001b[0m \u001b[32m━━━━━━━━━━━━━━━━━━━━\u001b[0m\u001b[37m\u001b[0m \u001b[1m0s\u001b[0m 122ms/step\n",
      "\u001b[1m1/1\u001b[0m \u001b[32m━━━━━━━━━━━━━━━━━━━━\u001b[0m\u001b[37m\u001b[0m \u001b[1m0s\u001b[0m 43ms/step\n",
      "\u001b[1m1/1\u001b[0m \u001b[32m━━━━━━━━━━━━━━━━━━━━\u001b[0m\u001b[37m\u001b[0m \u001b[1m0s\u001b[0m 122ms/step\n",
      "\u001b[1m1/1\u001b[0m \u001b[32m━━━━━━━━━━━━━━━━━━━━\u001b[0m\u001b[37m\u001b[0m \u001b[1m0s\u001b[0m 122ms/step\n",
      "\u001b[1m1/1\u001b[0m \u001b[32m━━━━━━━━━━━━━━━━━━━━\u001b[0m\u001b[37m\u001b[0m \u001b[1m0s\u001b[0m 124ms/step\n",
      "\u001b[1m1/1\u001b[0m \u001b[32m━━━━━━━━━━━━━━━━━━━━\u001b[0m\u001b[37m\u001b[0m \u001b[1m0s\u001b[0m 122ms/step\n",
      "\u001b[1m1/1\u001b[0m \u001b[32m━━━━━━━━━━━━━━━━━━━━\u001b[0m\u001b[37m\u001b[0m \u001b[1m0s\u001b[0m 121ms/step\n",
      "\u001b[1m1/1\u001b[0m \u001b[32m━━━━━━━━━━━━━━━━━━━━\u001b[0m\u001b[37m\u001b[0m \u001b[1m0s\u001b[0m 120ms/step\n",
      "\u001b[1m1/1\u001b[0m \u001b[32m━━━━━━━━━━━━━━━━━━━━\u001b[0m\u001b[37m\u001b[0m \u001b[1m0s\u001b[0m 42ms/step\n",
      "\u001b[1m1/1\u001b[0m \u001b[32m━━━━━━━━━━━━━━━━━━━━\u001b[0m\u001b[37m\u001b[0m \u001b[1m0s\u001b[0m 127ms/step\n",
      "\u001b[1m1/1\u001b[0m \u001b[32m━━━━━━━━━━━━━━━━━━━━\u001b[0m\u001b[37m\u001b[0m \u001b[1m0s\u001b[0m 123ms/step\n",
      "\u001b[1m1/1\u001b[0m \u001b[32m━━━━━━━━━━━━━━━━━━━━\u001b[0m\u001b[37m\u001b[0m \u001b[1m0s\u001b[0m 123ms/step\n",
      "\u001b[1m1/1\u001b[0m \u001b[32m━━━━━━━━━━━━━━━━━━━━\u001b[0m\u001b[37m\u001b[0m \u001b[1m0s\u001b[0m 101ms/step\n",
      "\u001b[1m1/1\u001b[0m \u001b[32m━━━━━━━━━━━━━━━━━━━━\u001b[0m\u001b[37m\u001b[0m \u001b[1m0s\u001b[0m 123ms/step\n",
      "\u001b[1m1/1\u001b[0m \u001b[32m━━━━━━━━━━━━━━━━━━━━\u001b[0m\u001b[37m\u001b[0m \u001b[1m0s\u001b[0m 122ms/step\n",
      "\u001b[1m1/1\u001b[0m \u001b[32m━━━━━━━━━━━━━━━━━━━━\u001b[0m\u001b[37m\u001b[0m \u001b[1m0s\u001b[0m 121ms/step\n",
      "\u001b[1m1/1\u001b[0m \u001b[32m━━━━━━━━━━━━━━━━━━━━\u001b[0m\u001b[37m\u001b[0m \u001b[1m0s\u001b[0m 123ms/step\n",
      "\u001b[1m1/1\u001b[0m \u001b[32m━━━━━━━━━━━━━━━━━━━━\u001b[0m\u001b[37m\u001b[0m \u001b[1m0s\u001b[0m 120ms/step\n",
      "\u001b[1m1/1\u001b[0m \u001b[32m━━━━━━━━━━━━━━━━━━━━\u001b[0m\u001b[37m\u001b[0m \u001b[1m0s\u001b[0m 121ms/step\n",
      "\u001b[1m1/1\u001b[0m \u001b[32m━━━━━━━━━━━━━━━━━━━━\u001b[0m\u001b[37m\u001b[0m \u001b[1m0s\u001b[0m 129ms/step\n",
      "\u001b[1m1/1\u001b[0m \u001b[32m━━━━━━━━━━━━━━━━━━━━\u001b[0m\u001b[37m\u001b[0m \u001b[1m0s\u001b[0m 125ms/step\n",
      "\u001b[1m1/1\u001b[0m \u001b[32m━━━━━━━━━━━━━━━━━━━━\u001b[0m\u001b[37m\u001b[0m \u001b[1m0s\u001b[0m 122ms/step\n",
      "\u001b[1m1/1\u001b[0m \u001b[32m━━━━━━━━━━━━━━━━━━━━\u001b[0m\u001b[37m\u001b[0m \u001b[1m0s\u001b[0m 128ms/step\n",
      "\u001b[1m1/1\u001b[0m \u001b[32m━━━━━━━━━━━━━━━━━━━━\u001b[0m\u001b[37m\u001b[0m \u001b[1m0s\u001b[0m 121ms/step\n",
      "\u001b[1m1/1\u001b[0m \u001b[32m━━━━━━━━━━━━━━━━━━━━\u001b[0m\u001b[37m\u001b[0m \u001b[1m0s\u001b[0m 42ms/step\n",
      "\u001b[1m1/1\u001b[0m \u001b[32m━━━━━━━━━━━━━━━━━━━━\u001b[0m\u001b[37m\u001b[0m \u001b[1m0s\u001b[0m 106ms/step\n",
      "\u001b[1m1/1\u001b[0m \u001b[32m━━━━━━━━━━━━━━━━━━━━\u001b[0m\u001b[37m\u001b[0m \u001b[1m0s\u001b[0m 124ms/step\n",
      "\u001b[1m1/1\u001b[0m \u001b[32m━━━━━━━━━━━━━━━━━━━━\u001b[0m\u001b[37m\u001b[0m \u001b[1m0s\u001b[0m 121ms/step\n",
      "\u001b[1m1/1\u001b[0m \u001b[32m━━━━━━━━━━━━━━━━━━━━\u001b[0m\u001b[37m\u001b[0m \u001b[1m0s\u001b[0m 121ms/step\n",
      "\u001b[1m1/1\u001b[0m \u001b[32m━━━━━━━━━━━━━━━━━━━━\u001b[0m\u001b[37m\u001b[0m \u001b[1m0s\u001b[0m 123ms/step\n",
      "\u001b[1m1/1\u001b[0m \u001b[32m━━━━━━━━━━━━━━━━━━━━\u001b[0m\u001b[37m\u001b[0m \u001b[1m0s\u001b[0m 123ms/step\n",
      "\u001b[1m1/1\u001b[0m \u001b[32m━━━━━━━━━━━━━━━━━━━━\u001b[0m\u001b[37m\u001b[0m \u001b[1m0s\u001b[0m 123ms/step\n",
      "\u001b[1m1/1\u001b[0m \u001b[32m━━━━━━━━━━━━━━━━━━━━\u001b[0m\u001b[37m\u001b[0m \u001b[1m0s\u001b[0m 124ms/step\n",
      "\u001b[1m1/1\u001b[0m \u001b[32m━━━━━━━━━━━━━━━━━━━━\u001b[0m\u001b[37m\u001b[0m \u001b[1m0s\u001b[0m 123ms/step\n",
      "\u001b[1m1/1\u001b[0m \u001b[32m━━━━━━━━━━━━━━━━━━━━\u001b[0m\u001b[37m\u001b[0m \u001b[1m0s\u001b[0m 128ms/step\n",
      "\u001b[1m1/1\u001b[0m \u001b[32m━━━━━━━━━━━━━━━━━━━━\u001b[0m\u001b[37m\u001b[0m \u001b[1m0s\u001b[0m 122ms/step\n",
      "\u001b[1m1/1\u001b[0m \u001b[32m━━━━━━━━━━━━━━━━━━━━\u001b[0m\u001b[37m\u001b[0m \u001b[1m0s\u001b[0m 121ms/step\n",
      "\u001b[1m1/1\u001b[0m \u001b[32m━━━━━━━━━━━━━━━━━━━━\u001b[0m\u001b[37m\u001b[0m \u001b[1m0s\u001b[0m 123ms/step\n",
      "\u001b[1m1/1\u001b[0m \u001b[32m━━━━━━━━━━━━━━━━━━━━\u001b[0m\u001b[37m\u001b[0m \u001b[1m0s\u001b[0m 121ms/step\n",
      "\u001b[1m1/1\u001b[0m \u001b[32m━━━━━━━━━━━━━━━━━━━━\u001b[0m\u001b[37m\u001b[0m \u001b[1m0s\u001b[0m 123ms/step\n",
      "\u001b[1m1/1\u001b[0m \u001b[32m━━━━━━━━━━━━━━━━━━━━\u001b[0m\u001b[37m\u001b[0m \u001b[1m0s\u001b[0m 98ms/step\n",
      "\u001b[1m1/1\u001b[0m \u001b[32m━━━━━━━━━━━━━━━━━━━━\u001b[0m\u001b[37m\u001b[0m \u001b[1m0s\u001b[0m 123ms/step\n",
      "\u001b[1m1/1\u001b[0m \u001b[32m━━━━━━━━━━━━━━━━━━━━\u001b[0m\u001b[37m\u001b[0m \u001b[1m0s\u001b[0m 123ms/step\n",
      "\u001b[1m1/1\u001b[0m \u001b[32m━━━━━━━━━━━━━━━━━━━━\u001b[0m\u001b[37m\u001b[0m \u001b[1m0s\u001b[0m 124ms/step\n",
      "\u001b[1m1/1\u001b[0m \u001b[32m━━━━━━━━━━━━━━━━━━━━\u001b[0m\u001b[37m\u001b[0m \u001b[1m0s\u001b[0m 122ms/step\n",
      "\u001b[1m1/1\u001b[0m \u001b[32m━━━━━━━━━━━━━━━━━━━━\u001b[0m\u001b[37m\u001b[0m \u001b[1m0s\u001b[0m 122ms/step\n",
      "\u001b[1m1/1\u001b[0m \u001b[32m━━━━━━━━━━━━━━━━━━━━\u001b[0m\u001b[37m\u001b[0m \u001b[1m0s\u001b[0m 18ms/step\n",
      "Character Error Rate for test dataset: 0.0004045307443365696\n",
      "Word Error Rate for test dataset: 0.0016556291390728477\n"
     ]
    },
    {
     "name": "stderr",
     "output_type": "stream",
     "text": [
      "2024-11-03 15:13:11.538454: I tensorflow/core/framework/local_rendezvous.cc:404] Local rendezvous is aborting with status: OUT_OF_RANGE: End of sequence\n"
     ]
    }
   ],
   "source": [
    "import tensorflow as tf\n",
    "import jiwer\n",
    "\n",
    "# Lists to store ground truth and predicted sentences\n",
    "ground_truth_list = []\n",
    "predicted_list = []\n",
    "\n",
    "# Iterate over the padded test dataset\n",
    "for batch in test:\n",
    "    # Get the batch of data and labels\n",
    "    x_batch, y_batch = batch\n",
    "\n",
    "    # Predict using the model\n",
    "    y_pred = model.predict(x_batch)\n",
    "\n",
    "    # Decode the predicted batch\n",
    "    decoded_pred = tf.keras.backend.ctc_decode(y_pred, input_length=[75 for _ in range(len(y_pred))], greedy=True)[0][0].numpy()\n",
    "\n",
    "    # Convert both ground truth and predicted values to strings\n",
    "    ground_truth_strings = [tf.strings.reduce_join(num_to_char(word)).numpy().decode('utf-8') for word in y_batch]\n",
    "    predicted_strings = [tf.strings.reduce_join(num_to_char(word)).numpy().decode('utf-8') for word in decoded_pred]\n",
    "\n",
    "    # Append to lists\n",
    "    ground_truth_list.extend(ground_truth_strings)\n",
    "    predicted_list.extend(predicted_strings)\n",
    "\n",
    "\n",
    "# Compute CER for the entire dataset\n",
    "cer = jiwer.cer(ground_truth_list, predicted_list)\n",
    "print(f\"Character Error Rate for test dataset: {cer}\")\n",
    "\n",
    "# Compute WER for the entire dataset\n",
    "wer = jiwer.wer(ground_truth_list, predicted_list)\n",
    "print(f\"Word Error Rate for test dataset: {wer}\")\n"
   ]
  },
  {
   "cell_type": "markdown",
   "id": "d62c8f54",
   "metadata": {},
   "source": [
    "# Loss Graphs"
   ]
  },
  {
   "cell_type": "code",
   "execution_count": 1,
   "id": "6fe3e0bd",
   "metadata": {},
   "outputs": [
    {
     "data": {
      "image/png": "[encoded data removed]",
      "text/plain": [
       "<Figure size 1200x600 with 2 Axes>"
      ]
     },
     "metadata": {},
     "output_type": "display_data"
    }
   ],
   "source": [
    "import matplotlib.pyplot as plt\n",
    "\n",
    "loss_values = [\n",
    "    101.4487, 72.3761, 67.5191, 64.3383, 61.9207, 60.3831, 58.5048, 54.9079, 53.4087, 51.0339, 48.6791, 47.1699,\n",
    "    44.5235, 42.0773, 40.4132, 37.5807, 35.4942, 33.6463, 30.6426, 28.5764, 26.2876, 23.8713, 21.7952, 20.6236,\n",
    "    18.6210, 17.2756, 16.1465, 15.0383, 14.6011, 13.6129, 12.4684, 11.5329, 11.0969, 10.3373, 9.8979, 9.5228,\n",
    "    9.0090, 9.0752, 8.1214, 7.2617, 7.2900, 6.7348, 6.2746, 6.1971, 5.3507, 5.1351, 4.9604, 4.5152, 4.2976,\n",
    "    4.1555, 3.8123, 3.4384, 3.4903, 3.2411, 3.0647, 2.7539, 2.8000, 2.7340, 2.5137, 2.1992, 2.4356, 2.1018,\n",
    "    2.3807, 2.1558, 1.8112, 1.7893, 1.6514, 1.7389, 1.5735, 1.7709, 1.4300, 1.4131, 1.7116, 1.4398, 1.2502,\n",
    "    1.1190, 1.1619, 1.0068, 1.0529, 1.2590\n",
    "]\n",
    "\n",
    "val_loss_values = [\n",
    "    70.9637, 66.0087, 61.4914, 59.7941, 58.0526, 55.9951, 52.4257, 50.0377, 50.0571, 46.2146, 44.1661, 41.1321,\n",
    "    39.1487, 35.6049, 35.0143, 31.7128, 28.9381, 27.9748, 24.6268, 23.4013, 19.8957, 17.9036, 16.3288, 14.8880,\n",
    "    13.5173, 13.2070, 11.9014, 11.3259, 9.5831, 8.9175, 8.6965, 8.5880, 8.1840, 6.4338, 6.7868, 5.7928, 5.8686,\n",
    "    6.4612, 5.0857, 4.7411, 4.1208, 3.9035, 3.8614, 2.9867, 2.6768, 2.5098, 2.3897, 1.9596, 1.8797, 1.4579,\n",
    "    1.6333, 1.0925, 1.2778, 1.2153, 1.2122, 1.0427, 1.2327, 0.9436, 0.7178, 0.8871, 1.0146, 0.6450, 1.4959,\n",
    "    0.6885, 0.5028, 0.5939, 0.4915, 0.5384, 0.8710, 0.6837, 0.3548, 0.5042, 0.6169, 0.4860, 0.4450, 0.3309,\n",
    "    0.3095, 0.4080, 0.3917, 0.3258\n",
    "]\n",
    "\n",
    "epochs = list(range(1, len(loss_values) + 1))\n",
    "\n",
    "plt.figure(figsize=(12, 6))\n",
    "\n",
    "plt.subplot(1, 2, 1)\n",
    "plt.plot(epochs, loss_values, color='red')\n",
    "plt.title('Training Loss')\n",
    "plt.xlabel('Epochs')\n",
    "plt.ylabel('Loss')\n",
    "\n",
    "plt.subplot(1, 2, 2)\n",
    "plt.plot(epochs, val_loss_values, color='blue')\n",
    "plt.title('Validation Loss')\n",
    "plt.xlabel('Epochs')\n",
    "plt.ylabel('Val Loss')\n",
    "\n",
    "plt.tight_layout()\n",
    "plt.show()"
   ]
  },
  {
   "cell_type": "code",
   "execution_count": 2,
   "id": "6514a40b",
   "metadata": {},
   "outputs": [
    {
     "data": {
      "image/png": "[encoded data removed]",
      "text/plain": [
       "<Figure size 1000x600 with 1 Axes>"
      ]
     },
     "metadata": {},
     "output_type": "display_data"
    }
   ],
   "source": [
    "epochs = list(range(1, len(loss_values) + 1))\n",
    "\n",
    "plt.figure(figsize=(10, 6))\n",
    "\n",
    "plt.plot(epochs, loss_values, color='red', label='Training Loss')\n",
    "plt.plot(epochs, val_loss_values, color='blue', label='Validation Loss')\n",
    "\n",
    "plt.title('Training and Validation Loss')\n",
    "plt.xlabel('Epochs')\n",
    "plt.ylabel('Loss')\n",
    "plt.legend()\n",
    "\n",
    "plt.show()"
   ]
  }
 ],
 "metadata": {
  "accelerator": "GPU",
  "colab": {
   "gpuType": "T4",
   "provenance": []
  },
  "kernelspec": {
   "display_name": "Python 3",
   "language": "python",
   "name": "python3"
  },
  "language_info": {
   "codemirror_mode": {
    "name": "ipython",
    "version": 3
   },
   "file_extension": ".py",
   "mimetype": "text/x-python",
   "name": "python",
   "nbconvert_exporter": "python",
   "pygments_lexer": "ipython3",
   "version": "3.10.12"
  }
 },
 "nbformat": 4,
 "nbformat_minor": 5
}
